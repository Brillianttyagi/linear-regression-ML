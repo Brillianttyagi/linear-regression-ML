{
 "cells": [
  {
   "cell_type": "code",
   "execution_count": 0,
   "metadata": {
    "colab": {},
    "colab_type": "code",
    "id": "vYYkQXeuU7Fq"
   },
   "outputs": [],
   "source": [
    "import numpy as np\n",
    "import pandas as pd\n",
    "\n",
    "import matplotlib as mpl\n",
    "import matplotlib.pyplot as plt\n",
    "\n",
    "from matplotlib.animation import FuncAnimation\n",
    "from sklearn.datasets import load_boston\n",
    "from sklearn.metrics import mean_squared_error\n",
    "from sklearn.model_selection import train_test_split\n",
    "from sklearn.preprocessing import MinMaxScaler\n",
    "\n",
    "from IPython.display import HTML"
   ]
  },
  {
   "cell_type": "markdown",
   "metadata": {
    "colab_type": "text",
    "id": "QGh4Wp3BKA4L"
   },
   "source": [
    "**** \n",
    "Data Processing"
   ]
  },
  {
   "cell_type": "code",
   "execution_count": 0,
   "metadata": {
    "colab": {},
    "colab_type": "code",
    "id": "F1D0KDmJXR6U"
   },
   "outputs": [],
   "source": [
    "boston = load_boston()\n",
    "features = pd.DataFrame(boston.data,columns = boston.feature_names)\n"
   ]
  },
  {
   "cell_type": "code",
   "execution_count": 0,
   "metadata": {
    "colab": {},
    "colab_type": "code",
    "id": "9gRarjAixL7Y"
   },
   "outputs": [],
   "source": [
    "target = pd.DataFrame(boston.target,columns = ['target'])"
   ]
  },
  {
   "cell_type": "code",
   "execution_count": 0,
   "metadata": {
    "colab": {},
    "colab_type": "code",
    "id": "U0SiYtzSAGTR"
   },
   "outputs": [],
   "source": [
    "df = pd.concat([features,target],axis= 1)\n"
   ]
  },
  {
   "cell_type": "markdown",
   "metadata": {
    "colab_type": "text",
    "id": "sCXwIte8XKSM"
   },
   "source": [
    "Data Visualize"
   ]
  },
  {
   "cell_type": "code",
   "execution_count": 5,
   "metadata": {
    "colab": {
     "base_uri": "https://localhost:8080/",
     "height": 297
    },
    "colab_type": "code",
    "executionInfo": {
     "elapsed": 1480,
     "status": "ok",
     "timestamp": 1589184511076,
     "user": {
      "displayName": "Deepanshu tyagi",
      "photoUrl": "https://lh3.googleusercontent.com/a-/AOh14GgCmU1nvfo6I6DPbhu7_T1OvZed31gKFisEamnhxA=s64",
      "userId": "01321392116102915651"
     },
     "user_tz": -330
    },
    "id": "3SP_e14HJ7_H",
    "outputId": "892801cb-16b6-4598-95ab-10e2b6dcd59e"
   },
   "outputs": [
    {
     "data": {
      "text/html": [
       "<div>\n",
       "<style scoped>\n",
       "    .dataframe tbody tr th:only-of-type {\n",
       "        vertical-align: middle;\n",
       "    }\n",
       "\n",
       "    .dataframe tbody tr th {\n",
       "        vertical-align: top;\n",
       "    }\n",
       "\n",
       "    .dataframe thead th {\n",
       "        text-align: right;\n",
       "    }\n",
       "</style>\n",
       "<table border=\"1\" class=\"dataframe\">\n",
       "  <thead>\n",
       "    <tr style=\"text-align: right;\">\n",
       "      <th></th>\n",
       "      <th>CRIM</th>\n",
       "      <th>ZN</th>\n",
       "      <th>INDUS</th>\n",
       "      <th>CHAS</th>\n",
       "      <th>NOX</th>\n",
       "      <th>RM</th>\n",
       "      <th>AGE</th>\n",
       "      <th>DIS</th>\n",
       "      <th>RAD</th>\n",
       "      <th>TAX</th>\n",
       "      <th>PTRATIO</th>\n",
       "      <th>B</th>\n",
       "      <th>LSTAT</th>\n",
       "      <th>target</th>\n",
       "    </tr>\n",
       "  </thead>\n",
       "  <tbody>\n",
       "    <tr>\n",
       "      <th>count</th>\n",
       "      <td>506.00</td>\n",
       "      <td>506.00</td>\n",
       "      <td>506.00</td>\n",
       "      <td>506.00</td>\n",
       "      <td>506.00</td>\n",
       "      <td>506.00</td>\n",
       "      <td>506.00</td>\n",
       "      <td>506.00</td>\n",
       "      <td>506.00</td>\n",
       "      <td>506.00</td>\n",
       "      <td>506.00</td>\n",
       "      <td>506.00</td>\n",
       "      <td>506.00</td>\n",
       "      <td>506.00</td>\n",
       "    </tr>\n",
       "    <tr>\n",
       "      <th>mean</th>\n",
       "      <td>3.61</td>\n",
       "      <td>11.36</td>\n",
       "      <td>11.14</td>\n",
       "      <td>0.07</td>\n",
       "      <td>0.55</td>\n",
       "      <td>6.28</td>\n",
       "      <td>68.57</td>\n",
       "      <td>3.80</td>\n",
       "      <td>9.55</td>\n",
       "      <td>408.24</td>\n",
       "      <td>18.46</td>\n",
       "      <td>356.67</td>\n",
       "      <td>12.65</td>\n",
       "      <td>22.53</td>\n",
       "    </tr>\n",
       "    <tr>\n",
       "      <th>std</th>\n",
       "      <td>8.60</td>\n",
       "      <td>23.32</td>\n",
       "      <td>6.86</td>\n",
       "      <td>0.25</td>\n",
       "      <td>0.12</td>\n",
       "      <td>0.70</td>\n",
       "      <td>28.15</td>\n",
       "      <td>2.11</td>\n",
       "      <td>8.71</td>\n",
       "      <td>168.54</td>\n",
       "      <td>2.16</td>\n",
       "      <td>91.29</td>\n",
       "      <td>7.14</td>\n",
       "      <td>9.20</td>\n",
       "    </tr>\n",
       "    <tr>\n",
       "      <th>min</th>\n",
       "      <td>0.01</td>\n",
       "      <td>0.00</td>\n",
       "      <td>0.46</td>\n",
       "      <td>0.00</td>\n",
       "      <td>0.38</td>\n",
       "      <td>3.56</td>\n",
       "      <td>2.90</td>\n",
       "      <td>1.13</td>\n",
       "      <td>1.00</td>\n",
       "      <td>187.00</td>\n",
       "      <td>12.60</td>\n",
       "      <td>0.32</td>\n",
       "      <td>1.73</td>\n",
       "      <td>5.00</td>\n",
       "    </tr>\n",
       "    <tr>\n",
       "      <th>25%</th>\n",
       "      <td>0.08</td>\n",
       "      <td>0.00</td>\n",
       "      <td>5.19</td>\n",
       "      <td>0.00</td>\n",
       "      <td>0.45</td>\n",
       "      <td>5.89</td>\n",
       "      <td>45.02</td>\n",
       "      <td>2.10</td>\n",
       "      <td>4.00</td>\n",
       "      <td>279.00</td>\n",
       "      <td>17.40</td>\n",
       "      <td>375.38</td>\n",
       "      <td>6.95</td>\n",
       "      <td>17.02</td>\n",
       "    </tr>\n",
       "    <tr>\n",
       "      <th>50%</th>\n",
       "      <td>0.26</td>\n",
       "      <td>0.00</td>\n",
       "      <td>9.69</td>\n",
       "      <td>0.00</td>\n",
       "      <td>0.54</td>\n",
       "      <td>6.21</td>\n",
       "      <td>77.50</td>\n",
       "      <td>3.21</td>\n",
       "      <td>5.00</td>\n",
       "      <td>330.00</td>\n",
       "      <td>19.05</td>\n",
       "      <td>391.44</td>\n",
       "      <td>11.36</td>\n",
       "      <td>21.20</td>\n",
       "    </tr>\n",
       "    <tr>\n",
       "      <th>75%</th>\n",
       "      <td>3.68</td>\n",
       "      <td>12.50</td>\n",
       "      <td>18.10</td>\n",
       "      <td>0.00</td>\n",
       "      <td>0.62</td>\n",
       "      <td>6.62</td>\n",
       "      <td>94.07</td>\n",
       "      <td>5.19</td>\n",
       "      <td>24.00</td>\n",
       "      <td>666.00</td>\n",
       "      <td>20.20</td>\n",
       "      <td>396.22</td>\n",
       "      <td>16.96</td>\n",
       "      <td>25.00</td>\n",
       "    </tr>\n",
       "    <tr>\n",
       "      <th>max</th>\n",
       "      <td>88.98</td>\n",
       "      <td>100.00</td>\n",
       "      <td>27.74</td>\n",
       "      <td>1.00</td>\n",
       "      <td>0.87</td>\n",
       "      <td>8.78</td>\n",
       "      <td>100.00</td>\n",
       "      <td>12.13</td>\n",
       "      <td>24.00</td>\n",
       "      <td>711.00</td>\n",
       "      <td>22.00</td>\n",
       "      <td>396.90</td>\n",
       "      <td>37.97</td>\n",
       "      <td>50.00</td>\n",
       "    </tr>\n",
       "  </tbody>\n",
       "</table>\n",
       "</div>"
      ],
      "text/plain": [
       "         CRIM      ZN   INDUS    CHAS  ...  PTRATIO       B   LSTAT  target\n",
       "count  506.00  506.00  506.00  506.00  ...   506.00  506.00  506.00  506.00\n",
       "mean     3.61   11.36   11.14    0.07  ...    18.46  356.67   12.65   22.53\n",
       "std      8.60   23.32    6.86    0.25  ...     2.16   91.29    7.14    9.20\n",
       "min      0.01    0.00    0.46    0.00  ...    12.60    0.32    1.73    5.00\n",
       "25%      0.08    0.00    5.19    0.00  ...    17.40  375.38    6.95   17.02\n",
       "50%      0.26    0.00    9.69    0.00  ...    19.05  391.44   11.36   21.20\n",
       "75%      3.68   12.50   18.10    0.00  ...    20.20  396.22   16.96   25.00\n",
       "max     88.98  100.00   27.74    1.00  ...    22.00  396.90   37.97   50.00\n",
       "\n",
       "[8 rows x 14 columns]"
      ]
     },
     "execution_count": 5,
     "metadata": {
      "tags": []
     },
     "output_type": "execute_result"
    }
   ],
   "source": [
    "df.describe().round(decimals = 2)  #Describe is used to stastical anylasis of the data"
   ]
  },
  {
   "cell_type": "markdown",
   "metadata": {
    "colab_type": "text",
    "id": "wPUd5JtQLC7P"
   },
   "source": [
    "\n",
    "Correlation between attributes & target"
   ]
  },
  {
   "cell_type": "code",
   "execution_count": 6,
   "metadata": {
    "colab": {
     "base_uri": "https://localhost:8080/",
     "height": 334
    },
    "colab_type": "code",
    "executionInfo": {
     "elapsed": 2178,
     "status": "ok",
     "timestamp": 1589184513152,
     "user": {
      "displayName": "Deepanshu tyagi",
      "photoUrl": "https://lh3.googleusercontent.com/a-/AOh14GgCmU1nvfo6I6DPbhu7_T1OvZed31gKFisEamnhxA=s64",
      "userId": "01321392116102915651"
     },
     "user_tz": -330
    },
    "id": "0wp5H0UPKjkC",
    "outputId": "dd1e8310-9704-4feb-92a8-daf2e7fb18e4"
   },
   "outputs": [
    {
     "data": {
      "image/png": "[encoded data removed]",
      "text/plain": [
       "<Figure size 720x360 with 1 Axes>"
      ]
     },
     "metadata": {
      "needs_background": "light",
      "tags": []
     },
     "output_type": "display_data"
    }
   ],
   "source": [
    "# correlation between the attributs and target\n",
    "corr = df.corr('pearson')\n",
    "\n",
    "#taking the absolute value of the correlation\n",
    "corrs = [abs(corr[attr]['target']) for attr in list(features)]\n",
    "\n",
    "#make a list of pair [(corr,features)]\n",
    "l = list(zip(corrs,list(features)))\n",
    "\n",
    "#sorting the list of pair in descending order\n",
    "l.sort(key = lambda x:x[0],reverse = True)\n",
    "\n",
    "#unzip pair to two list\n",
    "corrs,labels = list(zip((*l)))\n",
    "\n",
    "#ploting correlation with respect to the target value in a bar graph\n",
    "index = np.arange(len(labels))\n",
    "plt.figure(figsize=(10,5))\n",
    "plt.bar(index,corrs,width=.5)\n",
    "plt.xlabel('attributes')\n",
    "plt.ylabel('correlation')\n",
    "plt.xticks(index, labels)\n",
    "plt.show()"
   ]
  },
  {
   "cell_type": "code",
   "execution_count": 7,
   "metadata": {
    "colab": {
     "base_uri": "https://localhost:8080/",
     "height": 34
    },
    "colab_type": "code",
    "executionInfo": {
     "elapsed": 1745,
     "status": "ok",
     "timestamp": 1589184513155,
     "user": {
      "displayName": "Deepanshu tyagi",
      "photoUrl": "https://lh3.googleusercontent.com/a-/AOh14GgCmU1nvfo6I6DPbhu7_T1OvZed31gKFisEamnhxA=s64",
      "userId": "01321392116102915651"
     },
     "user_tz": -330
    },
    "id": "AigAyfFtK9Cc",
    "outputId": "79010d1e-7da6-4f91-9cc9-8f8a7ea0b532"
   },
   "outputs": [
    {
     "data": {
      "text/plain": [
       "array([24. , 21.6, 34.7, 33.4, 36.2])"
      ]
     },
     "execution_count": 7,
     "metadata": {
      "tags": []
     },
     "output_type": "execute_result"
    }
   ],
   "source": [
    "X = df['LSTAT'].values\n",
    "Y = df['target'].values\n",
    "#before normalization\n",
    "Y[:5]"
   ]
  },
  {
   "cell_type": "markdown",
   "metadata": {
    "colab_type": "text",
    "id": "P9AINCgZVSUy"
   },
   "source": [
    "Normalization of BH Data"
   ]
  },
  {
   "cell_type": "code",
   "execution_count": 0,
   "metadata": {
    "colab": {},
    "colab_type": "code",
    "id": "FZKA9s07SwYH"
   },
   "outputs": [],
   "source": [
    "x_scaler = MinMaxScaler()\n",
    "X = x_scaler.fit_transform(X.reshape(-1,1))\n",
    "X = X[:,-1]\n",
    "y_scaler = MinMaxScaler()\n",
    "Y = y_scaler.fit_transform(Y.reshape(-1,1))\n",
    "Y = Y[:,-1]"
   ]
  },
  {
   "cell_type": "code",
   "execution_count": 9,
   "metadata": {
    "colab": {
     "base_uri": "https://localhost:8080/",
     "height": 34
    },
    "colab_type": "code",
    "executionInfo": {
     "elapsed": 2033,
     "status": "ok",
     "timestamp": 1589184515065,
     "user": {
      "displayName": "Deepanshu tyagi",
      "photoUrl": "https://lh3.googleusercontent.com/a-/AOh14GgCmU1nvfo6I6DPbhu7_T1OvZed31gKFisEamnhxA=s64",
      "userId": "01321392116102915651"
     },
     "user_tz": -330
    },
    "id": "cuEKFMEgY1o7",
    "outputId": "61f84bbd-bc53-4715-ed34-02bd39713a0d"
   },
   "outputs": [
    {
     "data": {
      "text/plain": [
       "array([0.42222222, 0.36888889, 0.66      , 0.63111111, 0.69333333])"
      ]
     },
     "execution_count": 9,
     "metadata": {
      "tags": []
     },
     "output_type": "execute_result"
    }
   ],
   "source": [
    "#after normalization\n",
    "Y[:5]"
   ]
  },
  {
   "cell_type": "code",
   "execution_count": 0,
   "metadata": {
    "colab": {},
    "colab_type": "code",
    "id": "fCPXUfZyOGnf"
   },
   "outputs": [],
   "source": [
    "#splitting the data into 80% train data 20% test data\n",
    "xtrain, xtest, ytrain,ytest =train_test_split(X, Y, test_size =0.2)\n"
   ]
  },
  {
   "cell_type": "code",
   "execution_count": 0,
   "metadata": {
    "colab": {},
    "colab_type": "code",
    "id": "3D4MyCsEOJPi"
   },
   "outputs": [],
   "source": [
    "def error(m,x,c,t):\n",
    "    N = x.size\n",
    "    e = sum(((m*x+c)-t)**2)\n",
    "    return e*(1/(2*N))"
   ]
  },
  {
   "cell_type": "code",
   "execution_count": 0,
   "metadata": {
    "colab": {},
    "colab_type": "code",
    "id": "PrWrl4OsOMwW"
   },
   "outputs": [],
   "source": [
    "def update(m,x,c,t,learning_rate):\n",
    "    grad_m = sum(2*((m*x+c)-t)*x)\n",
    "    grad_c = sum(2*((m*x+c)-t))\n",
    "    m= m-grad_m*learning_rate\n",
    "    c = c-grad_c*learning_rate\n",
    "    return m,c\n"
   ]
  },
  {
   "cell_type": "code",
   "execution_count": 0,
   "metadata": {
    "colab": {},
    "colab_type": "code",
    "id": "fqVuhA91OQy6"
   },
   "outputs": [],
   "source": [
    "def gradient_descent(init_m,init_c,x,t,learning_rate,iterations,error_threshold):\n",
    "    m = init_m\n",
    "    c = init_c\n",
    "    error_values = list()\n",
    "    mc_values = list()\n",
    "    for i in range(iterations):\n",
    "        e = error(m,x,c,t)\n",
    "        if e < error_threshold:\n",
    "            print('Error less than the threshold. Stopping gradient descent')\n",
    "            break\n",
    "        error_values.append(e)\n",
    "        m, c = update(m,x,c,t,learning_rate)\n",
    "        mc_values.append((m,c))\n",
    "    return m,c, error_values, mc_values"
   ]
  },
  {
   "cell_type": "code",
   "execution_count": 14,
   "metadata": {
    "colab": {
     "base_uri": "https://localhost:8080/",
     "height": 51
    },
    "colab_type": "code",
    "executionInfo": {
     "elapsed": 957,
     "status": "ok",
     "timestamp": 1589184516412,
     "user": {
      "displayName": "Deepanshu tyagi",
      "photoUrl": "https://lh3.googleusercontent.com/a-/AOh14GgCmU1nvfo6I6DPbhu7_T1OvZed31gKFisEamnhxA=s64",
      "userId": "01321392116102915651"
     },
     "user_tz": -330
    },
    "id": "8WOmTy0mOVHL",
    "outputId": "0cef534c-0b2b-4aa2-a8db-63ba80777c8d"
   },
   "outputs": [
    {
     "name": "stdout",
     "output_type": "stream",
     "text": [
      "CPU times: user 67.5 ms, sys: 86 µs, total: 67.6 ms\n",
      "Wall time: 69.7 ms\n"
     ]
    }
   ],
   "source": [
    "%%time\n",
    "init_m = .9\n",
    "init_c = 0\n",
    "learning_rate = 0.001\n",
    "iterations = 250\n",
    "error_threshold = 0.001\n",
    "m,c,error_values,mc_values=gradient_descent(init_m,init_c,xtrain,ytrain,learning_rate,iterations,error_threshold)"
   ]
  },
  {
   "cell_type": "markdown",
   "metadata": {
    "colab_type": "text",
    "id": "iu5hk6T_zdwc"
   },
   "source": [
    "**Visualization of the learning process**"
   ]
  },
  {
   "cell_type": "code",
   "execution_count": 15,
   "metadata": {
    "colab": {
     "base_uri": "https://localhost:8080/",
     "height": 282
    },
    "colab_type": "code",
    "executionInfo": {
     "elapsed": 1294,
     "status": "ok",
     "timestamp": 1589184517921,
     "user": {
      "displayName": "Deepanshu tyagi",
      "photoUrl": "https://lh3.googleusercontent.com/a-/AOh14GgCmU1nvfo6I6DPbhu7_T1OvZed31gKFisEamnhxA=s64",
      "userId": "01321392116102915651"
     },
     "user_tz": -330
    },
    "id": "Jw_XVEmjygN-",
    "outputId": "a3a3ced0-5b23-4ed1-88a9-d8b0da21b692"
   },
   "outputs": [
    {
     "data": {
      "text/plain": [
       "[<matplotlib.lines.Line2D at 0x7f977093cb38>]"
      ]
     },
     "execution_count": 15,
     "metadata": {
      "tags": []
     },
     "output_type": "execute_result"
    },
    {
     "data": {
      "image/png": "[encoded data removed]",
      "text/plain": [
       "<Figure size 432x288 with 1 Axes>"
      ]
     },
     "metadata": {
      "needs_background": "light",
      "tags": []
     },
     "output_type": "display_data"
    }
   ],
   "source": [
    "plt.scatter(xtrain,ytrain,color ='b')\n",
    "plt.plot(xtrain, (m*xtrain+c), color ='r')"
   ]
  },
  {
   "cell_type": "markdown",
   "metadata": {
    "colab_type": "text",
    "id": "1p1tOfk27p5t"
   },
   "source": [
    "**Plotting error values**"
   ]
  },
  {
   "cell_type": "code",
   "execution_count": 16,
   "metadata": {
    "colab": {
     "base_uri": "https://localhost:8080/",
     "height": 296
    },
    "colab_type": "code",
    "executionInfo": {
     "elapsed": 1681,
     "status": "ok",
     "timestamp": 1589184520041,
     "user": {
      "displayName": "Deepanshu tyagi",
      "photoUrl": "https://lh3.googleusercontent.com/a-/AOh14GgCmU1nvfo6I6DPbhu7_T1OvZed31gKFisEamnhxA=s64",
      "userId": "01321392116102915651"
     },
     "user_tz": -330
    },
    "id": "j_Xhw7qy7lqN",
    "outputId": "77a358a8-99cf-4210-f810-1759089d1fd9"
   },
   "outputs": [
    {
     "data": {
      "text/plain": [
       "Text(0.5, 0, 'Iterations')"
      ]
     },
     "execution_count": 16,
     "metadata": {
      "tags": []
     },
     "output_type": "execute_result"
    },
    {
     "data": {
      "image/png": "[encoded data removed]",
      "text/plain": [
       "<Figure size 432x288 with 1 Axes>"
      ]
     },
     "metadata": {
      "needs_background": "light",
      "tags": []
     },
     "output_type": "display_data"
    }
   ],
   "source": [
    "plt.plot(np.arange(len(error_values)),error_values)\n",
    "plt.ylabel('Error')\n",
    "plt.xlabel('Iterations')"
   ]
  },
  {
   "cell_type": "markdown",
   "metadata": {
    "colab_type": "text",
    "id": "1VahVruM8tyk"
   },
   "source": [
    "****Animation make take a minute or more to get processed****"
   ]
  },
  {
   "cell_type": "code",
   "execution_count": 0,
   "metadata": {
    "colab": {},
    "colab_type": "code",
    "id": "m2LGSoiR8d7o"
   },
   "outputs": [],
   "source": [
    "#As the number of iterations increasess, changes in the line are less noticable\n",
    "\n",
    "mc_values_anim = mc_values[0:250:5]"
   ]
  },
  {
   "cell_type": "code",
   "execution_count": 18,
   "metadata": {
    "colab": {
     "base_uri": "https://localhost:8080/",
     "height": 561
    },
    "colab_type": "code",
    "executionInfo": {
     "elapsed": 6633,
     "status": "ok",
     "timestamp": 1589184528620,
     "user": {
      "displayName": "Deepanshu tyagi",
      "photoUrl": "https://lh3.googleusercontent.com/a-/AOh14GgCmU1nvfo6I6DPbhu7_T1OvZed31gKFisEamnhxA=s64",
      "userId": "01321392116102915651"
     },
     "user_tz": -330
    },
    "id": "U_RxcW6_-_Ip",
    "outputId": "dffab609-796b-466e-8026-d7d4a72941c4"
   },
   "outputs": [
    {
     "data": {
      "text/html": [
       "<video width=\"432\" height=\"288\" controls autoplay loop>\n",
       "  <source type=\"video/mp4\" src=\"data:video/mp4;base64,AAAAHGZ0eXBNNFYgAAACAGlzb21pc28yYXZjMQAAAAhmcmVlAACnpG1kYXQAAAKtBgX//6ncRem9\n",
       "5tlIt5Ys2CDZI+7veDI2NCAtIGNvcmUgMTUyIHIyODU0IGU5YTU5MDMgLSBILjI2NC9NUEVHLTQg\n",
       "QVZDIGNvZGVjIC0gQ29weWxlZnQgMjAwMy0yMDE3IC0gaHR0cDovL3d3dy52aWRlb2xhbi5vcmcv\n",
       "eDI2NC5odG1sIC0gb3B0aW9uczogY2FiYWM9MSByZWY9MyBkZWJsb2NrPTE6MDowIGFuYWx5c2U9\n",
       "MHgzOjB4MTEzIG1lPWhleCBzdWJtZT03IHBzeT0xIHBzeV9yZD0xLjAwOjAuMDAgbWl4ZWRfcmVm\n",
       "PTEgbWVfcmFuZ2U9MTYgY2hyb21hX21lPTEgdHJlbGxpcz0xIDh4OGRjdD0xIGNxbT0wIGRlYWR6\n",
       "b25lPTIxLDExIGZhc3RfcHNraXA9MSBjaHJvbWFfcXBfb2Zmc2V0PS0yIHRocmVhZHM9MyBsb29r\n",
       "YWhlYWRfdGhyZWFkcz0xIHNsaWNlZF90aHJlYWRzPTAgbnI9MCBkZWNpbWF0ZT0xIGludGVybGFj\n",
       "ZWQ9MCBibHVyYXlfY29tcGF0PTAgY29uc3RyYWluZWRfaW50cmE9MCBiZnJhbWVzPTMgYl9weXJh\n",
       "bWlkPTIgYl9hZGFwdD0xIGJfYmlhcz0wIGRpcmVjdD0xIHdlaWdodGI9MSBvcGVuX2dvcD0wIHdl\n",
       "aWdodHA9MiBrZXlpbnQ9MjUwIGtleWludF9taW49NSBzY2VuZWN1dD00MCBpbnRyYV9yZWZyZXNo\n",
       "PTAgcmNfbG9va2FoZWFkPTQwIHJjPWNyZiBtYnRyZWU9MSBjcmY9MjMuMCBxY29tcD0wLjYwIHFw\n",
       "bWluPTAgcXBtYXg9NjkgcXBzdGVwPTQgaXBfcmF0aW89MS40MCBhcT0xOjEuMDAAgAAAKV1liIQA\n",
       "E//+97GPgU3IAA2XOop6H+EVsfSQUXqx2aBk6gAAAwAAiYH638JRwsQHwht3BudId0Uq2fQAIbty\n",
       "qmwF8gX0LLzk2vyiTGtHdrlUU0pvR9E1IWLAAGdLElzm0F+YKb0MJhE+T2NumtX7TTF8pigVhe0e\n",
       "r977kTqG3rWhSuI4WldWhyiZMW2mxwklk9u21aQfI9h6ATTXzRwEwGZa3zZxtFyLCSx6LKotsfAE\n",
       "GgboxzYNWVX1GVeOSduJf1t2v3BWpVmrD7xDTSgKSPVJnZ8PuNTuK07QUYS6j8JYKhc7yaftGx6M\n",
       "0gh4qQcKukUURR2tAm10tk2JAMab1qRSXOEvkf+LeNUS3TJLc+XtBRoPj9z9oP5gDFT9ec+iHxv4\n",
       "IQvvsT3DHttu+5XcujZqBK35c9ij3rkT6cLe1rvVFTO+i8E+pIdwV4MhFJD0NHZnsWSP4KD7hJ77\n",
       "vLCdXpGTyGsO5B/CrMtyyibsUjVcWgcEoCD62DmLcKruewpewkeHwG+kiRQHLz0IHxdYkyTSN3U/\n",
       "cM/u0QBa4UEOwOtRaNE8d+17mvXif3IFu7dZtf03JfXAWjvtTMZZn7BM/BwllBCsAn4VxTxdhm8X\n",
       "TBFSxMFKRNQLu4DrO0ePHpVQiB1TABwfDW6w/g1G6FFZCq+m6N+LIRp6Pv788YgdkNVQJ2e+9dsG\n",
       "iQprgunlYlJW3bgPzEwbaXYhkN40uWbXa1ffHFx85uLHjRWj7ujspLDy7gYM1Vgbhvbk72S7Zou5\n",
       "5lFtHvzkLrA0vbH1do6DKA8xhOVDQe7gFbfHwE0oyarSxk67BKpF7TxMjiBgqWOLr7CP2etROJAn\n",
       "Zzr6ZT9gs3lVn1PopBgZn0OJTGnrGXBTO9iA2szISzWuc7dPmi3ZVh2CRx49Kx4DcdJIENLcVClB\n",
       "+372AbJtb9t3qSxT90RlNkdCJ4VzNPgM5vW5OirtoenL0eXF6cuhX+iw5Wt+TeorMMSOdqcN8JT7\n",
       "INuef5HvPm3PwfywNI9AqPtT4ndp4ycEJ8tvhxmoBNto9SnFw17QXjiHyMb/KbBP6jxVBK8OnfQa\n",
       "dzIubB3RkMJkiGArp+yL8u9djeXfwAj/qYEasay00C8jCnlQGlQqUTl37InDUTADylNz4x/9tt/c\n",
       "34e9HTzL9iTpuJ5wV8IZyL+BMVpf4CvHRktl1obNbj4nxw2PyMBqgdl/2InibcwkqjT5hz+hlK5f\n",
       "rk2BNETbfXsSUfWpzb/kkvv/sxjUaKitoLV8XcXHJe7XtHV7xGyAL7RBDRQSXGjMKh+fz6TMG2vw\n",
       "WUf5J04qq/6+PWZOFjCv54aDyIMCSCfShRyLKl0u+L8OeFYOGH6c5IO68lnYpKjvPm/IyXpesgoC\n",
       "EnXIDjDDY7X+rSQHIPL2UbAJhKKThGLWtEXAJU5Sny6rzjx7sC85qhBDH6+bEW9Rxxwr57dj61/u\n",
       "7fdW/tLRH69iaJsgtymtv2KLLh9V8p6pUKCC2WcIht/jpyjxscqZbeJ2Surt6Q3SPdGSJJ6YlJ17\n",
       "4DvSCViMBcAYRY7NUStUc9JhyidBxYZWgtJTPZVdVEZ9yvLQKCIObQeIzQ6Dx3vnTpkgbFmpxh0u\n",
       "eP+4k1+sD440zTHpWpwSx8sPsismMkhB+n8aekeSO7z8Zmj7IckHSJdJhKnUC+VX09RoGnmv2XNZ\n",
       "Inq9PaWGpQ5uVisAJ0kKF/LE3O+Gn2nuOrioXRxW554WqX9tEcBHHccnNM5HRxfkcZWaLuc+R24X\n",
       "1GiDZM88syi/YySLiSibEwfGECVh/mNbnMDZiA4zR/Rl+baxp5/61ir9d/EAOKGXcVVHbJhMq5gd\n",
       "ls4FKZBIKmm+S7w8H2hw/4HwQSxOEPrGZswP44IK8Br2pM2mp/rpFlu3LKYhleyiokuDnAbbpmzj\n",
       "9wFhQkiLC4YccK5M0GqsqWJH7oQ++5Fj+yvoUatt7owtdX7OAf/V3uEbW7pM++Np37+MO2yxffRX\n",
       "AK9B/Bhzn+2+eB3LnIl+dh8/KDXoV7Uh+DlNA0DLGSTgFx+BS4xhuKyETmiHy5fUJgAylCPaUcoh\n",
       "qAicaIq3uZPkLQpPPNoynfaDVd4ns5IRs/kE+NwAvaWB6kzVcGRf+T90mpDi+AQMVwGqLZzdW4Dz\n",
       "4O/YeiNMKpOHpuC29iDCJlQCJaIatw39il8933BTDWXGy+SAmogvljQ7ogSupyCqGRLQtpsPd4n5\n",
       "9+598Zp4Y/KAS1bWMx1y+w23gkLdM/Ye8+188DzNShin9AU0QE1VhXszHPMPaxf7anGbSYfP4kOr\n",
       "vNNQBr+2gAl/FX1Pq5Ndvy80LzeoIPUsIVo59oKF30T22pTC/HBjii+g4EWBKeH5xefWZHLvFxGd\n",
       "bpDP2NhkpWk5yXHhegTnN7kygxUM80U8ZNu/ZlbpSkETBoJ5fbWzejY9vKlOnMBDwCWkcilMVu64\n",
       "Z6/X3cz4nX2PMO1AzB4Yjkx6tDytPe2mtCwTGndw4YcegxQQv0zBjnJQ6FnvQPxVDUHwW4zIFPq6\n",
       "ml37m8rOzc7AeQVMpPVkG1KjI05H2r73iE6gFvm0pQ2JWa+cf9Hl5C63KJMiYuWsThEc1HvwQfJr\n",
       "ZYeUN3cAtbjZ+7w6GMtuIa1hTjHWrmU+9Ujwra5DAIVabE39WxdEcXezlSiapcujXI/j/BgISSbi\n",
       "v7WS1n2iV110IJlXJMqlRnvOokvhnK5SpH8g9zW5YiuzhKJ7tW3zlbVb5VAMMi7w8gjP8b33Dsir\n",
       "Z9BwU1gC7yRzvLJ7an9tNAV+9nqWEMHR5QI6qN2m+3/z6YRVt6l/igqr4cQROhh7KncG5Z4fhp4m\n",
       "VfIV8VW4Xpj0kk7JXYhkGx8Kjq1WDYO9yYRxam71MvV/n6m4RzPLycIt5cgPDISEbFK0D/Ih+H8a\n",
       "0TRKltN/9hx3CPThWO5jvTacYlkwV7uWRa2d0GccoNdvgNyNAAOXIV2gx0/Rsoe/Ns2eMV/QC9un\n",
       "zFmRb+oB6SK17E0T/nW+GsUEqfQ5SzemzAY/XwGfGxy05Zap++0o54/DpW7dOhMdOLJ3W9LWLo5Z\n",
       "nrE5OBGFA6I266F3TdoVuFkO+bMNb+1F3jAPkKzrDbPHOTRfkHMvl6EAvzewwC5QWGNFdcZbKQNE\n",
       "M6UysHTTvwM2W4FuVGDfPpyj6Re8fHIB9Lpd0d25AnqXZoWiLgXU/tgUkdAGPcsN8b6y4kOLj/dU\n",
       "a9bzv7r2IjylA6f1Y5Dd1JQ1VxacNc4ZPqkhzJ54pdnKvyiVDUecgL2om9uHploy9FtLeUoyRVrL\n",
       "h4IfZskTEBs+hxTX0zD0PijOUV5ZAr7GHqQ3TnhzpFyyqffJJqY4gO6Je5AxHVPV1MHl97cBBhJx\n",
       "ClA9eSSU480eyJOsCoxpda/yPmKN+b3QQhyiSbwkGB/oGjxOjiQ+D9WaCBhR73F575e32SuaBF5b\n",
       "iHJZIPblgV4Eh7BAIEjhdvg3EJQqqkuoTWCFwboRAiHtp8BsjFPbohxJoHTo/CCNLGcSOmKJgACi\n",
       "PuuYKSQtOCJ5qDN+/ssFkS2ZusntRU00xshayVCyqexV4qNUXSGDAcY5zLcjZalhwibaSUY5sOld\n",
       "tWMLu2zY9Sg8O9OaJU3IwfBASwGME2Cb5OXOoGFgTKk3FRh4odm6zw98eei+G6Z5HsFLfJhlXLP6\n",
       "m0CoJ11CiFpI4RAY3IyV9E6Su5CoOKki0WYZ7TBWftyYLc1iWRK3u3M1fbbm0OID89EVkF/jtrS5\n",
       "m3f43cwx6P59eY2n+1y5Tk15lMKY8xKt2J5rxBBnOo5mC3YWphpN3ctBH89icZQTQVm51zNMYq9g\n",
       "TqzDRMLtE2QtZee8KxCE4qVlNAegfPwwTmEalvZVkn3w5pTwSYzmn6s8O0/T4qMJx7FPUdbPawE4\n",
       "3ZBONf+KdWaAvl3TE3QyAybN7nY9WkuGiP+uSX7YOY/JfpWF4L8LOQSCjhLV2u3CjCNe2vnVF7Dc\n",
       "j7/GFJLZX4RVkq5Zhp6D5hPXsmOQ9MLadYuPujfdZ/BFx3jeKRKY4SOFQz9EJTyA1hApP+ywSG4T\n",
       "GrR6FrytRhOGZWEj3nLBQ/VQwDmn2prqfFpjOYej7sqVV3VD//KExytlhHGtFwJ/6GaobrWwjn40\n",
       "3XOxsJGsePiPeffsxAwuApEsNC0+wDKi7IJLV2Uti5eK83XiuF+ZucU7JCr+pheZwPkf7lwvdMnD\n",
       "fZ0rQZOk0EPG5RgQKckevEGuUkXjeNtaWBxCBjzF8cetoiYMO4xxesyUv2A43GxYYBYM3I1xXT9M\n",
       "XIOMZ6Mw7SgX9bCbIlDUq6b8trtObIocC2Ob1T9ohi3bGx3gYAtscIy13UI7Edo1XEX2XP6QU77S\n",
       "V0e/1gncsbOXdqYHaTpcNersvMzkkztTW/MuIW+Jj6RF9Np3wAomBJYwCuB53mzZgqACQEECMU39\n",
       "3GyByl8VML/+lLkwapV08owHgv2AMRMutw6pBXpj22HozAjYR9hUSjcNls8sPQPH2T2ht5qBDWD4\n",
       "aE/FZYPN9NYgbHkO8eXoZxMUcAlfXy3GAQkwME0NvloPzIMXMBoPwG2+cBSxcGJp7Asce2OQYkZa\n",
       "80hUjEuASFqDQ+0Kz4u/jHOVx46iJL5T25AXIg+9VGxWg8Rcx2mtiQIrtPkGPvap863Tnaiur4JX\n",
       "hK7q++3xbKKEgqvkOqaiP0Q/Q+gIavvikUAdB8x2aL8V4rFe3UosG/7OvAnqnH+sUUETEyY6BkaI\n",
       "hnVsj7bxcs+vlgAaWQKfsd5sPbuUwUk7XuJ/kKq+hgkudXDdpJjauF/OBhiUkD6RyNDtCNK0zSCz\n",
       "aPJIoRt94Kr7MdewqOYj5pwU55lvceMuctbgIzsci4ph7009xkCavR17mGXC6/ElsCdUEVTIYscY\n",
       "wjyga36R+7DBetnzuGmSYiADnE429Gs+ROF7MJ9YzLmbJbtDqnYgf9iRdOqisGcbwBtC3AnQRm5y\n",
       "AwnWdPX46dUB+WUHSCDo6QQpQAxxaFPJwR/3VPbmc19eJ+b4hz3iJhV/BkvsO832az8PyqC8ZOGz\n",
       "AHsmCVxPsPG5J08IUW6s7wz4DhQoXXjnPldydcy0ldhCOnj33qTlk/WMCu/fD3LGMp1bpiBFzGwh\n",
       "uaBQnzAdQCcz1ag+OMNShyc0UBcM1goyKKjZB02OvtGL71tTlQlgFuslZORA2loE38xZRC0qNDOe\n",
       "R77xVe9/LNBD6XIHH7+vbA4/N5FW24a9a3HW0rCKK9xlkqHFhs47yWXgZRVSNcIXW4OoukP30ip2\n",
       "f2YgHSGszUxQpot6S5ZGSqUcsJCxPAiNpJKgvsifrNwad0jE+NqPeC7l/AbABTprG7XNX15xMWfF\n",
       "7LTwzBElEd2kf8G3Onla6vhYNwBNb0FU/GROS+CdUwHjOEGCpB43gV0qEnqBqEVCjyR5b5LGUHg+\n",
       "uHOuvJ1bIrV1BPcS9X7cut5lBfIhC7xGeJTUuR90/MhnV/U1VIqjonXyBxnmMDwopn8G8oIkFyfy\n",
       "sZnDXHvqD6O1P2fUZlZduET6iJkvFzQzo9m61Vrajz4Wp4uazT8wLYE8zTijrtXvYveixgY8oJ5u\n",
       "/uJmsJ0F3/Wx6R6WtspXMnmln/9wYQeRKaemvV7XGXNe8tKMO4TH6tReU4Nd5R934ZI7kGmKTnrS\n",
       "FkO3nG7OeYpnbjqb2UCOMR92G8B6RULXZu6toPevZ8ns5ofDQQUS1vGhopoxEEuXEDJVvEipboIc\n",
       "6JNyxv/s3xkrptZiepWAT7/QinEJx77ApCJ9omDHWKeYlyclLFpGNuVIA+wpW46qFOpSJjzWgnnk\n",
       "KYM7hGZfTO/f6FB8izOAzazhnRIhBz9xTSEs9z/S+Orl8mm6N4QCioPFlSPaKKxKV0HnW3p3AaUW\n",
       "IHEtxSifRB1ReS0Ib7mPAQsDR5n2uu573mjX1c2x6hd08k9LvKHAbwiN/+qe9afp3CS/R2myWcA5\n",
       "xA6Pb/Bo0sz6Qr0cTvzsOVkzjjEF1AZurs98w0C+Ul42S0UUL6B3CTMkhrj1kKTQpBXwqqI4CaOl\n",
       "CRdzsNlo9yshoW18+vm2vbb91SLkABpCzGweHUpM1HmmxKmv3b7f9aGuOz37ZdLMu8p3yOphUjCx\n",
       "/8et1YiHHHYNTO/v+xsMIn+hmopUlLz9t6bZuHKEBxnSOsIdLMguRsEmTvXNLfIFVnjE8W6PcLKw\n",
       "Y0NEtoZbwCVOlqXsDV2RZP/j8zArN+SE47YHrWu6Lbf8XQAentjGRJ2OC6M0Vi/mT964QMpKhOaa\n",
       "TA8HCv7AQwqoe2fNry0VXCBdfyQC7TZpsF4JZ8nFyQ/zY/j+QJI9DXLwkt4Oh8MEcXeoG2gmj63/\n",
       "boMzM1QlGhRnj/x7/gEwuyWjoFAZ/zgv1DETFV96re70RCGVkaUboH72/3gUn64h+HLcUvEiypWt\n",
       "zk3nOs6jC9VSqUWyDfahk3GLET2hRYkSklIJlIRSuQWoj5dOXoVxhypP5JTTea+sA2ic1E9eM8yb\n",
       "Ns/Qewk1kgFeMQcta6/ay5yci1Hp0+SGCOD/eFhbrHjjGC+CTp5BaWfyCJgfTzin8qXLeOf3C9o1\n",
       "qxOX7ktBT4JFz/okWYfj1GeBj/KS7/k46ngMGJnub98NJ8LPUCDkZ8Bi+O5Qrvq1+G0/dnVmTemB\n",
       "hriaCr7g/QOBeP+ks/O+kzsgoPcFbT5GEs+/sCqq9vCL+ECCtoM3a61BiwZ61OVYONhdfxLn+QcK\n",
       "RxjMNk72nj4I/4wJ1QTtwk7WRWo3nMZtxTQ/K43tYQo1hAbxYggLbGdm4+Jb6zadWyUpYd80XWkz\n",
       "fRoTgjrJwlh9ae4UUm72kEfSlI3ui+yhWZckzc0nQXbelQkgUuFgwZlNhC8kyB/Kze9wgu4yi321\n",
       "jWvIkBXt+ybzGToncFs68fMeZUrcVOJGY25LLxAoqbLsq99dXQUUQ+kgjcNrevGuda3PWtY/C+y9\n",
       "ffg+uqcsBacB/EJ5m2lA1NNjtIwrq3KcTIqIqXoPhgi5vMfkdg/jQ0Bo9rVOwHO93mx5tfQ68K+3\n",
       "B51Z1Ci/dZmY6CfgKHb+fNpSOwXGL5zNhbfyUqbaQ/+/DPxmdkual+r84pjR3jMnI2pnfap7+SP0\n",
       "VaAjmjlmdAcvjs5V/pqyld/dFv93BRIs5zbp1yGyCsjYhLZFnnxuQ3WOj0+KCl6wlhVjlC1GTJf9\n",
       "akWLirpUnxKY1hXnQnNofQKDOtPHcT+ylKwT+Vd4wQMixteibq/ckLLWwkIdTDOHvBAAJS3/g4GA\n",
       "30Y/2OGrYGZaPKsGzhphs9UHcBA3uJol/rf1qTC562tfdiTIqP4PV+t/CXjc7Vf+Xu0qPW6Ctzpq\n",
       "txNX1ooR9rx0RgaABYDVioDwmHhRXsnNVhFqoy88YMyvUYijRWzoZpxKuFnekoas89wuAECToJ9/\n",
       "7gT58RPZviHv5yMPR5TFxlf0KjlwKnsjnTgEx9cWwQGRKuaFd6ytOVWOMlUESGR1Me5AuzKQlfda\n",
       "AuQixoUMFAHLQDYwJVrpZYyWX6Ea2pJ1KCin3jFWY88S4Ij0Nu89UZPxfqe14sgV+O3WqTUDnkrK\n",
       "AMzKFooqwVnT0ov5wQE9mUsJ7DNXnBRQ63hq8VOJBJs/FnOvI4qHxFkCwQmJvSoFCel6r8eNc3Z8\n",
       "1pntNHxO0pBsWQiGpP+fWbB5VuGAWLyfExLR5yePh1V3qxe/MkP7gr8SENo+cKvuC+DwV25Gwe8t\n",
       "sQCPwKk1o23MaRzJ24rT232uOukJESzQodrWa/aA83gm7Xfm5cXA3L1hawQjjT4eXdWGECRsZoqA\n",
       "dNZJH0bnb4wHDbUXEaTnDm1bNj2lpZmZFbfTzlSzavxt6zQDUmMQgHrIRmcpgnfKBeUflxJCMSv0\n",
       "u7Qh4EcQswZw/BgIEHay3CwmWwhVYT9A4Xx5ES8A+B7/1YpCB3hIyvV5FhGzN0eIy3oPQEHOLNz4\n",
       "v/+TBdZKpEXt8L8AdXUkyVCPavXOlPB7zJbJxMErjF+QTW4PT5okYNz88Atrey7jkjh+hzks72fz\n",
       "lpALFatKX4hLBibzznC4B498hvhmttBit/pLpnezlhFk6qPuvm9RRoVMYFoH/duG3z5Czr1Pmgdp\n",
       "mlr/ID5rkuZz8EBL6GIjXIFyttOjTRyzLKAUpYUanfrcEuS5JfhjUi3IwdpOLEKhZT0MZFEEWj8f\n",
       "04w7amciR+Q+x8RYI7jGYomWYOYaomSjbQTAQxWlM4DZppB9j3GKTtldtIhw52zXJMT24HgrgYt1\n",
       "99eEFNZw5LkfO1mPzVEOfmT8ny2BG28wYHYHkOXzX8UkcJzsay9mGlP2tjT2RbqzhoSO38k+mrKe\n",
       "qNcaafBy9Aw5DZ/yqUfdspC9s6JLMuBI/SBbn9hR9+iKLgBYJJrCYMjIc7ZK1vXgkh0WRRgRi+ce\n",
       "Ba70YUPNyvD7IM2wruQIIUAD13j9NeWY+v8MTKgQIV+L7b+P62c6nrAbrmplXDyDINMXTOqgbpbh\n",
       "CXCTq3F6J+3XTZEksZ2lg6Dg1R8skW0NcSFl8XvgDi8sCuq9JdIL4Ivp5Bm9brY2IHlF8/zaojF3\n",
       "64PPxRfLuPfUA4eBcdyUyNceid83ZyP0uAN2Gum66Zgn+irO9iInFtc+/0EN3XYMvUr7K4Aq2xbn\n",
       "0GDnP1WW6OwpvqWSloz86RusinWiThXKrUk5+mF46UlCtTlUwOKLkYtA+T1W7gllDdwJs8/7A4EX\n",
       "hmNmfPbfr7PDJCmcJAfk/I5XOIpskuDgd4UtFs8ry/AULwyQQ/HT4ZMchTH9OUXf6EkNOOEiGCJS\n",
       "Frf8n2wQWT/2Hmphzx4E1JWL4ndOHN6GP/MhetNAmvVTZheoII8N9Ta1mRE3tMG9wMdVL19HDRHa\n",
       "41XrboU33ZYakg8cwj6vmIBChJlAJ6gNS9EnPC47zBONlImMkvVb6fB11G0DIaPFVE0j8cIOGyTU\n",
       "udNopSbx0vU51uaLIArJzrEqUIbj+rQka0gE5o1Cf7AhpahBEQPqX+qKlN1ltTduDTMl6k+9OD4r\n",
       "9nl9nVJGZX85yBXaFlJEeF02LMJzpJsabhGjPKymhfdzBSDhNR3ovv6/dsUbfH+yz8Yciy0wkLqc\n",
       "eqMnDQXdou35i0hj8XoA4K70ER/tDPyij+sBHhGbOwOnR74bLGbU1QAPvKblqGmlpFkX8IfWiuSK\n",
       "wPUkP98hP4fHQ1U5TfvlZXqN3P8yNmbCOLaxiWYHb2F/cLUXYSVrY+sIpPEFsVK0+NYoWqtjlgGl\n",
       "/5YA1HyCWOpjuiTQAtJqZSdu3mbbIi8IWH3/BFE11HIpZ1VKjygfcSazTdSa01mjg4EBAkgZIOFt\n",
       "7CPfyvd/QjDSjDsTD4e2FyRBs1gFzVCX90H1AkKwIfdOs0scTIcC1cQ3REwOah0mJm+H41iQs/2d\n",
       "K03mpVVN7Gk7TWPFyQ9CzWrVH21VWwPM/wbBb6YEi2TnqKRo3VDgtbvPEXciFGw3UiT4wI/Wqwxc\n",
       "075Ss5GKJLogG4p7gtTY0VipPSpZAmbCL0YdFREYVWgmEbsbPayzJvyDAs+WQEMg+ayJn9AB19Ns\n",
       "ObCAtaZfygoCKXnWtUmkUmEFUGREjdL2KzLkQGf8fR//GqozoHCPkqzi7nD28PaCHi+4edZP9lCf\n",
       "eThnYXIA8dXGo9nJwizIvzAtklpMYr8FiEWtQgBTbJ6ww+cISxTpFhFvo5rddkOw0o9MlJvXIhDG\n",
       "KH4LR1maC0Lijltuv8+vVeEo//nVZqTx80is5MRrTPEyMn7eRo8I9e0P/esspQp9AZDo7ZphI9/Z\n",
       "howdrtacnBbB/0mvKCl0uUhnjTKL7N2H1EamhnYLVpWYguPcoQCMPrgIycV6grqS6CpgNUvymKCN\n",
       "ZrT9NXIdkvAesQgdik525uqalrCNA0SaYJN8gDrsUV1lY0y3lakmsXfy2owQovIiSd+aqxTEAFQT\n",
       "Eyo4Qp3h1XhdIQZzx845lLeS312q6qsSRkXXCNs9SRvT8Gjm92ECykzaoSX7pNCFoJp4GPFHWr+2\n",
       "aVdu1t22YcJORgQKScgeqK3qzkcT+Hv8hjbGIxiyyAy23Cp8qrVu3IuPR3iXSB1SyUuMi4RvvgeQ\n",
       "PThfCe5k+SvOZTYrSqsIQUEg4YxjENIGLsogCeArRunNIvyEfgm19k2bsHA5+++DSv594RavKBEi\n",
       "AdputIFPH5yHmqbR9lWCWve0rHpLI11ozetPow4MRnWeYwWKYY65f4ysORvPwFju5o7eh7QGGwPK\n",
       "3u39m5AstpVZMAXrZj3behqbPMGmpbP9yusHd/CIRijMhY8D2zeS7MV06bgkbOe7eZp/5mm9EUUp\n",
       "lSJ5vhc21ERkig2uCNFcHEKzu8mYlUsFJJ7qSDMiuLZ6+83gyAvKbxB3jzVfNex2xmWpgZNyWb9k\n",
       "fgKuFuDQmDv/33btSZCI7dgwEtRNf3UJyozjy3tG1J7833ucOKMTMDCwGKLyE3MvSTni+cNK4ll3\n",
       "Dtl2+VGpKXL0F32lSru8ePssmJVMiFMWnCM/bC3mOAM8kJT3fdP7rav5Hpc363LDEQIY5OoW89mG\n",
       "viNpjT7/hlhA8aR1HzKzYwct3osQxgMuhFfiFshoRGk9WvXojbJuRnL92O5n4QSbLQWCcifxmA4P\n",
       "FTzI04VAvpE/VhlEE0w4X6GHHLXJxQAdPuzxDH7nkABTHIgsA/IHDMp0u48V00IcjIlCWHOPdXv7\n",
       "E27qKvJN945X16td4hZ0ymyQEnIYIJVv2QGlcUSkuw88lseCo2Evh6O64t5t4KNqe6zE5pTQ9rTy\n",
       "5UQvecAJeHcWAhI6VZk3RIDAcT0FMaFf1YY5KtybID9Em/636fXM48AnCIGFnkDOtKMbqN7qYcJO\n",
       "WDjRdgAEJKgXkQk05D3jIdWwAPD7faGmjxD7WOWiJ3Bf04cBwVgIZSbFLHH0LjALRK/gnTuj/5TV\n",
       "U5Ruh+81bQUz6kopCSiEhqJ5gNewAPF43sCkaLMbFFctcMXf1DyeODMUsSsLoUBzrGmLN4HDkTPU\n",
       "ZAoIMbXA5Uter9vzodNMWci9zyXN36Yn/yTaXHvtJoZbNJG4pHxEspqAJSpCPjElRM5saZqe2QMr\n",
       "WyP8by4uRTLw7oZRs+SbbKA4TacYSllmSI/KraO3wF/xfD/MQcdQBJf4o0jMKd+rPDOf39s6B4pw\n",
       "QFzvRIG8VPhAzavNN8+uhTAeWxbnL3C1LxrYae1F9fdnfp/SQZPmnVgNI3tAJDRVsR0Is9IjS70J\n",
       "++0k7gWXHIa+msBomTNqt4pOJerlZUxHK/EO6zkUCpf6n5P/WSjk/zNx12OUIUe9VyucT96NPnno\n",
       "BtM9L49FAn4WxFsuobB05Z0at1jV9rFv4T4RN2+XuCbChqb5wsv6quyBpxhJiSvsvZUFYVIaiCh8\n",
       "4FWq+8uDPRQMk9IDC9cmevSihrTSj3rjQuPolkyKAEVKXQoTTXUDYORR7+MvgeO/QgUcQ4y12otN\n",
       "gJacA6uvEZzbn3Jv2J5iw/7LXpR/+Y2rd+7lzibj+saOOUdfAOJJVxGmuSiXve5hW1EFrGGQGFUf\n",
       "ufQ7vr4v+oLsf9BQiXpNIjVH4KyAanhAuStcVPrRyzELXiU0bd68i3NyoTBHUnNVBBTyY0dEt+JM\n",
       "XKzJ3IgPle8u5tsLceyhafN2FJUlz4NhL6PPnUkKVgkIgV4BU9JMWCbUocNeRrgz0H57LmbE4VnP\n",
       "hn3PBiY6XTp7aKJP2X2lLKdvKrnDGge6u8vPIsyKxgYCBlh+GTt2n0y26DVPJUHteuMtkEe6Renv\n",
       "eH33mI9vgM2ZzTk9AxJfHcqZqrFPFISoT3NlkdZ7EDaYOUv1Z/ryRZVfOAdZxEvf4KsCktLg6pJV\n",
       "pE3eVqABT8bmhAhnQh6m7ecOy0BET+idaxgAiaNo1vhmZpYC4jg+d+oL+p5gmFH+tol/wImzvtiV\n",
       "JNTK5jYn15mpMxKanay22R41x6T9BslZdVunLdjZUg/5+v75HVk2JjymYCd/RJuoyCRWHYQMKVFI\n",
       "IGUEsDsakWsU7E+OSYF6G6DrPcVPdLkqR3jq4gZuaekMrFmsljPPrn4J6kJkLxb6Ovzx4/V7+2vp\n",
       "bQkQkvVYc6rmsLhFlLFXl9dUAyLiBiJ5ag1TAFW1qla68rIPILvHSNK170pdNhW2n67eI/quD9tv\n",
       "DfC1iG/n6NcMuQXSYFCj6kwV2TY59XfcbEOHGXZgW5P6S2VIcXUFTd0Munf0xSYg92zwitZJjjUj\n",
       "y+mauv0PL8Hvk+xvBiNoM04qf4aatv8lpE3A2UfBItsQqTVRh78jjrMQfTkm0IV5iqFtIPdh0IIE\n",
       "6e3eglRCUlEhxot49TdmMhoBTzJS15B9U2iKOsqLGfPaQlRzqIaFFa1zOaTELXEwbMpV9psAQ++o\n",
       "aiCq3n+iKzLtLTu8M+rDIguZTQqRRf9Gj5mGDUS0DDfDUsKkbKSwrRCn9eF4o3xOl7ADQFzeHb+5\n",
       "K44eYrcWOuzJqBUHUAlHvdeGgO3I2JD+tofLUkKDztfXbT/iU1AkztIgUXf/v46pKocWWvTtblY5\n",
       "jlHLdXqA+iu1i0YkpDJNj/FPISEsbvpSeko0TjNwxl05n/p+5UDUVA0ZEpKseD5TjN7T70k5GinC\n",
       "zP4tR4+yeI+UVkMWuVmFnKkvsQOCk/NN+YgLfR/BcUhTqYjbuWwjIKSp17eHiZxEq0R5mUU3hcnG\n",
       "V//hgIusV3ezVI1d0lGz1x4/Y0N5YGLHIomWnBuhH2ITgdCGqc16BELLH7JzrA1WMelt4RNiHJSp\n",
       "nkAtmBooI7MISC2BWAKc16KcoHMqI8FVNY50nWEKH9MpGlR8yAt9ft4I74g52mzV1AJCVlJCJ8KG\n",
       "uHe1nCnnLEjQajETF//q5k4uq+eehyOYD9y9Spd8WWFDPp9HTxq3jUGAnMHc2RkDG1Nf7Qxij03h\n",
       "bUUksuHEFguRw9tozMoJGYlbmvz3puxGyX8iyjI8cBa498ZlGWsgGe4FY9M/JcSbK4UCILKGi8UN\n",
       "aOw1RzRvh1mbZeNh3YBCVumDHwAHWgibmkTqVUgYLPuIntBhZEm+bKWZpuGz4wQNWlfDHcHB13cP\n",
       "3h5rOs4YoER0ZdScOh2saguC6/mP2924rI6u6HyU7yrAaijVu2nmVLnktO+tl/XVnoCPr8Yi228J\n",
       "q0wpa616xlxmR3LbcLmWg4piolzryHyDMlYYwAzUfiOBCmuFcoy26VVG6NWHaEhhxCymHyyNKCKs\n",
       "64c0XpVDtel/Hp3vd2fGugQRbJVx9iKu+1SEXoI1GJB6lCbxvt8PUUi51MoY3IUSgwfdw/rh07sd\n",
       "HpI/9dfaW5pVMLxk0x4ZxdUNhYos9YR/x6ghdlsZNEfxotLeTyLdwD2nZBlth9LjOQS+j1eNdtoj\n",
       "wJ88YIu8f6r3zqOZiFQG11C5J9GjCmHMAtXB9oVnUlLK+lf8AYZl+qOPZf0weVLxXcHcdVUqq/pQ\n",
       "HOLXS6IB5hoK1m+CMQb4N4oUNPd4f1sIAQ9KQulHxRMJZGGV81+QY7erTeEa04It+j2KtT5lUqHC\n",
       "7YTbTLm3RDwirKIoX38Q+ik5p0pYz5RBKHPHMb5IIE8I89ApjcBjjVfjf+MPSqoCtALv0ea0djNx\n",
       "U9zmMRTPngiWHREGoUWRkCEDipZPUYQLRxh3osP52U1j3hC6691+b1NOGCGc4NmsVSTkpsEG5GHy\n",
       "2gSIkUIM4ofFeiQvCJ2SN9oBoy7FZLxZ841LN2PPixd6DsIH0lMNg+X7398YtmDituXcPtggHoP4\n",
       "/uSkki/XW8FMPoamp+uIdr/XfHaJYT9PaeI7PuUIvVEfokTvRf+9JVur6/+3/Up+n0QUj9R2pi24\n",
       "lnRRqLauzZ6hBr+Df2q/MVCLuf6y+gzYSmqcRz1QF+oBOAqHNNuv3mynhMFhSoNaOge1bGirSzs/\n",
       "ESrFp7fYtMCjHWe3EaF/Bv4xtxK8Z51kM9il833ur4MrUYtGvCv7NnkWvk2XdtBRoh/n6jCLdnCq\n",
       "vJxE8Tjc0HPQ594zP9K4dsSt2W4stq/LaMnNUHfRxlTWctw/WCIlv1szgnYCJj693FjMR6zbrhVY\n",
       "BbTafOWcBezb7SD1nIUXk30wH16AzaECOSurC3e+fj3JfNBsNOm2XM9hADd0Uc36BMD5LDHKUwaV\n",
       "TaZKHBS284zLYMimyNSJb1XBsZiHZO1zzSxoYwYHxn5AAAADAABnQQAACR9BmiJsQT/+tSqAIo19\n",
       "OABkus65fr5elL0jjhIUDa7FvfxxJU6nYC2+0O1d31YyTltWh9O7pDA/xB75/g9QynIfY1ufAt4y\n",
       "BCRlg/CYNU1J0hfM9/+4Hz0kwb18DXXztrRPoXxn+4e9T+xWJbRN72QLQRswY6PD1nUeUkF4GGHz\n",
       "JPlBFt9C+7G4ekE0gWFKmY7U8aRJYseo6+oazDxJbmIqR4l7fVl2+cZr9nnMxAvSbIbe2fIxOXEN\n",
       "s4SVAlS+F3TfJYo/SjSuT7N4dsJmEVgl7zdx+A1f8toX7xgGVVpz4KLYVUxzV9zeAgwSnskbXm37\n",
       "ttAXc8OVvEl6msAA09q2Z9hCIWpJKktW2JQ1hyhmJOLA0Jck6EqmvsuVZtg7gB8j79hwKkmMImiv\n",
       "m4nB61eDu60jhPn9hzZqfrYk3Lyll6NCLaN8hN/nf8MACm8SvUJjklFW9W1W6ifRpvDU+PgDKDxl\n",
       "3dW4nr8cyr5XvPSjaFpwl9QYoBgTgh8xO0PkR8tWmg34lTvVHqLYyhKqtuNKOYHGAt+wX6j+3PZw\n",
       "DqofMYEYIc/7x4qIks/Z959zlAMW5Bah4VZH3oSOAk+kqHktD098+hzzG9NS/XbKeqI655ZJ8PP8\n",
       "aojekrN/qFpEGjpxB5JxDlXescF2Ux/183dggpuAHyZV6bzy8qjyzIuXX86i//i9XcHvUmAChE2m\n",
       "OvwrDZKPqjl9jCPhOK29QCK0y8FIEzTroKJlqQvV+o2Wu6J6G8iP20DFFLxkypCwhPzC2he76Pgc\n",
       "8/Yk2N4sIyv3w3yb60uRaP/4dE2KilKGaIc11EsdtwegozvRnmqK36VjieFsuACJNnb6WqJ1oWuk\n",
       "40Z6NogSUmLddAVpr2cpgYmu8S8/hX9pAC7IHnOIDASoWjzhHfHGPbt9bcod6dcRpway1tY5It2M\n",
       "ZQCQ2oUonVitf5cQoj0MYEueGK18TbrIQPKM1Qs/QQUqFtNOKhCmsZD0DMloD3xyu4Aw3wtE8vcs\n",
       "GalmfS6A6eDR7G11RmCrXG3jCX3nP+U2EMXZVUqF4b8PveuzmuwTZNIxR8gzLCx50ycBdXLQI+VF\n",
       "I//qsAdrqTrQi8yEZeBqKCa23nTddblePOkg590vSuQRCuXI3DPdCwoJjzcfafTHz7FJjuMiXQ/2\n",
       "Bew0RxjqTmzEmAOCnhMXpDJH5r0nytQQKsd5wYXgOonnoPMKqI4lBtQ6edoE9EX+4HgY0CCePYsX\n",
       "CxzAzDD+9SEmfQXjOfnlGdaw0MJEblTG7dik8jT+aoGpkXr0MWkA3lUHrVOQuf+J/6YTQ5oCz+G7\n",
       "tpu34NU1A9caj22fXMuuth3a9+evJrWxPOUq7+8dDh4ocQGQL2De90DcnCXQkYhCxK8e8ddTEETj\n",
       "Sa9DBwowdrKD0eCQ1+2o+XVeGdC/jSnmJQra9j1de1uO7+7dA+xkZPaW9McKRDzS/tWzQ0YP6YWD\n",
       "6y4seDvpfD2WozoQ6VqNVOjfE5UrUnwkZLzHhDbGqdOJI5VAts0fxwpwabzCYpJ5QGW2VE7uqFET\n",
       "7+Nwyo6mKVLSqG4aZQQRFmdnYOUcBjEXx2eOV8B6cxiDGOWkCFOFqchg8tCDvj/Us4js/6HdIgyS\n",
       "6d/LlqBg7qhvdFgC5pzMLyuR5eLHrwXWaUx2uE7Yfw9xC+3bH2vr2o7HbsKVgBhHv58nUNMM9GLz\n",
       "HvUvhl1NybKgl8JX+AoqztSV3FJg+KjmFHSD75zJ0EN2vh7a579DyQGYiBU3tfFgvhcHXWG9EqPA\n",
       "Zdy3W3BBAQvFRGCc75hEx7aAjngoXtREZQtHP0CNzE5BvZUaYTamyQkpyezSyr9ZLoy7xRp054sS\n",
       "60Kq+PeySfNh9e4oJZ9XlBC+7RYiUeo++svj2JHa1sdKmoOtiRUuzuijj4goTRsm3amLKr2JMbxb\n",
       "Y7wyqsfM21a1WZnMEgqh4+ZTLUV9AZ52VJJNkh6bAiiOvDARqlFrzBePEr2Mi5jvuAM6/CWnuaH9\n",
       "qfzOrWDP6gTtiqGfY79OQYPyy9tDIPmwi83KGxprlWH1Bk52vrpDYdReBQ8qdpWkp8HdsPJPvWca\n",
       "TIm0/8/8NlO8cF3wEtMXYl8MvcPGzNekDUpTsR4dZT/Xmd69MB671/XW9ewUaibJZscNFO1D3Hts\n",
       "zvQR8N5/ybr0bMzc//8x0O96oXzZg31HQ89WJx4TxEuLkUpp+PMpg0HiqDrCmMEnruQBXFVIUXEp\n",
       "urdZZVWpF0NBbrRLN4UojF4oMuFJ/j1Ut47y9HGUqksdR4ESguw8kicHHs6PUpGJljZVjSbhoTNB\n",
       "FXyQAMjUL03A98YZH31feDTaV7SrfqUiLZRrqy3bfq85mN2qCTBGuwsDp8od70CKrS/aApkrlFEz\n",
       "8F77cQ085nHFld5NYraZzJj6h+boTIT53wgtFGsfBZBZWbxo7CnQlFTMcyo+c6RGYY98IOeVTA50\n",
       "dQF8Tq/NnZpf8Mgux9SVzphBTnDcZEp8IO2F0eH1Wsq0NZPWiMKka+FE7M2KQdgv6/0q/a01n7n/\n",
       "fVOb1s8Odubltw5bHkSqD13XiqP/SqCqJX/aAA93wQL3gtKBUtXia3xBr0jlJUcbxnIS1k7+LL8H\n",
       "6FHT2Bz6fv0FwDBRmwHcZZvyFEBtY2qg/ggcvkw3mz0HoRqT844FqWYVnVfBskyo10ETehQB9glQ\n",
       "SznyrR32ms6E+SqE8zO9u5gtUeUa0zQySEow0sUXN+Vz6V2pHjOXe2fydD+P5R+2DgCgYoIeFtvk\n",
       "nVfmiUv8995Pw6LghbfevJdM7fHWHkfz4/+fHc3/th1bveFB4lJRxM2g4Y7r92r7pTy7Rj6aDdzx\n",
       "Cxa6i2uMRxRxo722x3Js8KR/4Ea/6Mwe0RU/W+dZKjrMjt7XP+cei6JfPr7iZGco7nIiWQk5ILqa\n",
       "S/idvHdWJhikEHp9E1p5tLj6sija9HkkcfelehoD5tO8Vye3YukQjhk708kGOvLsYMh2icLxlIpA\n",
       "5yhN99rQFvJKQh6MKbMXQYum57W0yR+DoX2saQlVgFhazv+vqzksSePJ3T+A48hxeJ8DNbP2stQE\n",
       "AfprmBFGUqiT3y5aeH2t2rhaDEjALoSnDA0SUWpZevGWlkyCC1iUsvBQAAAE/AGeQXkP/wAvhOfc\n",
       "cYYLeJosyZgJ/+GwqYAAXVdgW71jgq0yEP/9885sLX13GCJD2nanUcSs1Fm5Gc67L9f1YXFxPlkf\n",
       "ROP9Z4h0oWt4e/iYmpIW2PHzKSqf+EH1eqKcUQioNPJnKjJS3f46/B+8wOmMsfZ2kCQp1gKtnNkU\n",
       "Xp+2DzqLyXpHehiaSQTpkociTa1YQf/94zjWjpLWuDI1Dix1k48d12QlGVG7zhJK2XMqZoANsiye\n",
       "HHuxDATOUOHBOTHBGbI58iwPfG6oeC/0mk21bzICI2Xhs9ppaAu9a1HyqHn58IQfsReGb6f8Q+ZG\n",
       "TS0XjHAUhLZ6sc2v4BGTJ1t7K23X37CCPqhQWuo+RCFYwKx795J9UN1QaR9vvz5DBgmimI1ONny8\n",
       "3Co97dIRg7Pex146vytgTBsbaKKMx7jXunl26GdLqxYZrhy7wPLrfh1+myFbJRIMmZOplrk/CvvQ\n",
       "NtkUh+enQVZbLTeRVnTgNz+PB5GlCgADnKSa440XxqgG9g6iaLWwTw4tCbw82/zP2EBTsJ/oxgmY\n",
       "Fp8LaGmIiYcnZ0cnDUs0/bxncrHtBVkysyYVr8wKA8SewWHr94otBCvsN89WRY7TAVEn0RM3Ayj2\n",
       "4WXthG1J+BLtd2EiLa0mco9EZYx3Va7akJPS3iXQXQ3Nm+tNIMy7BeGAsDoeLonB4/xsPGbm7z2L\n",
       "Wx3yocGbxGURZVZ5VMW7637HDZ8lh1dZPSc5ituCYBDGiGQl3uNhq2nnNtMKTdNKRxrNdw65jXXF\n",
       "Telnf1RoHmf5ycFvY/xHRNnUmZy94RiVcUmWAUsU810p5P6uclM8efYHIQj9qBVi7ftANfPrvJVH\n",
       "8tEzn0SWTfb9ykp2Z97mOY9VePtr5UP0riMnvn2oGDMT/z3Tt8N4E14P5SiuJDE/R9nLvHmyyjmS\n",
       "cyjruNontWJd2sH/tqhoCm1ouin0DiTKCU4FGb3sg7MJ2RxoACVz6Rn6uy/lPhxOvzm3BM3sZx7o\n",
       "eXBEKByy8/4lkXrGyHuxTn/UKUYO7RD4IVobc+GWHWG1KRAfDabR90X+2pxQw7+HK32cwId0fhb/\n",
       "zXMP/63nuODCAC95KqYG40mEWD5IqTNPNS93SNqnvD+22DC2f8eZumQOZWmCD/grwYbz7gGbw/le\n",
       "m3748LyG5iF49+DuE0uXyhIvGYPNL3UGZKTySawhP134f15zwxRx9c3Zt5OMM8FCC095d9SwCga5\n",
       "h2FOZeA8xZmTHF4uSmKbhTuFMp0G4TxjHqYY/g+YyXbW2Bsl6LXs33r7sjAhiD/+bMbHG1uGj1mt\n",
       "X4hjRtxy0IEWm88sUv0qYaetAK3conuB6fRe/LFPnKdHv/pnuA7hYipY7shBXtJchO0e1emktiHi\n",
       "Z6UHY20XOb14AZrsZ/A4yPP1fQ7gBv2qHRosZlyYj4I/LeOR63Ufumbe7Rl87BP8B34Yi/+d2LYK\n",
       "Jn4n8ozSKQRWmnoQcVF2KbaRyRDbKavABIMoMTsXf4mfN+jBUm0Sze6mv0cfx7UJ80caKEpiWrPP\n",
       "9rjMGOP3EkS+yVul8Udu2ERnbufQiUvyfskWAQABpbm0TLd1zB/8rB0RLI/sBTdAjM/yNSQk9rY2\n",
       "/gR6rROCCi+QBKGGXaUyrTkZxJTD4ELJB9dZ10hWN3oXk8G5o/RPVVEGCDv6/MMK7Hu7b+Gb5JoR\n",
       "MiQQGchlUhS1Fz0AAAPXQZpFPCGTKYQT//61KoABKftQziGou0rImTwO8ciYa2l4+RxpS40/MwL0\n",
       "ymdu4NhCjrLetmmSYA04V6jJ1ijo8wAa0bayS+EW7JfZSUyYvPVVZpGBo4AvCFYONA/A5D9w5MMp\n",
       "U4dVeZpgd8k8PSgmsdmd/dW69v5q9nyM/qfzqVgdt/6tH+KWla/vdfSytA12Zv6UEtrFnRPEH04D\n",
       "EekKMPAXPMNwsjFRN5fsV3nfN1vXdQPN2Zj72FqGNPrttor73TecDjkd9/0LtkukF8LvHJ6hWcBF\n",
       "S+nF+/MwiUJIwP6TDvYfmsVrAYz5TWiXLlmYODI/4p1ujCo4pxXPVMHHN1E2RsKH+MJ9FEIMA6YR\n",
       "adevhz/NpAFK53FSWFAkZa7VDDBAT2Swsnwm07bHuJv8EDsyZJ16c2Yoe6O7L018vrAzxEKO/Yiv\n",
       "udTzctzUs24+mapgouZY3tB5+EgobpdJKP7XlV9eqIKIOF6UtRGD9JgiYRaE4LjQCch3q5RlXFUQ\n",
       "5o8mLCotdQw/00JC1qFoqpmGdGd5lyGp/Gr+u01rGmBtxlLgDc0pPt1Cw/8nGPCt5MpB6mgleswW\n",
       "oOhBMDE561+3vxtC4JItzqTjt8qi0S0MPHmwrMjUtkcTCDEyohOG0bDLnDhOCMbOq/K2+UtfiNcN\n",
       "pc2FqX/u8+YC/LAI2bB4QzL2ujYrknH3TV2JN/iY0Fmy3HiAC6CaKTFZHa6uwD+rG+1cYTbih/xR\n",
       "JmtFSZ+hBOYNaE3dbuX5KJmlPlnXM3nZrX39PEZfv3p5uzIx4bqFgErMnGrczhEWVWh2y1Y5S1sF\n",
       "I+bgct6GVqmokIUyGIHt4+tebQSbpktXX/cKwIoYTIrhU9QvpiLpSm5SFv06hkF2CY+G7Pc6V6rd\n",
       "fEtVNyS6IkptHqFrzlVjA8I0v9m9swY4Ix6eCstCXdKJnQN1D2MxelphYB6DonuIKhRkXqdqeiw4\n",
       "6mce49imLb51LqAJjME9WGOL+jNApxIWCo1b9/IK3rZR5JfPvIv67rZvgVFIftJT4h5GC0mTphKH\n",
       "yp+EmixYUHuMzKMqPi40FCtIxn/+nLEV4ihYvNkXAoL+OgVMREg6vEzPBNfv6IftLwF25VzF+f26\n",
       "PNi8aHh98dcmcB8EkuCGtfAJHFizjZ/nVolzDXW/e//QBoN7uRr8ZZngIQ/jDPtEN/bdsGBRGMPD\n",
       "9USvNYU+yHuSYUXLxvW0jTKspP35BFN5gwMeafjLg2fv1oZOrvM6CqNGF/bAFUoUvdKzqysXtgxp\n",
       "na68ulMBWSSNgELILsPYkhqfiGp45KPwR2rlHUkAAAQ9QZ5jalPBDwACslpqxjwTLFr4gQ8mGiLP\n",
       "01y5BgkdAX8PQA0QwiRES5fzRyJQgZd2Vm4JGLpw2VRFn0IJlvO6SBsBHhfLWLANYx15L/LCpfW9\n",
       "hK1JQE3zXxtqq6DK0tyUj5d2gAjmWPBXG91DUzwI6Ta6YGpzbBfvSLXJbvcaCwnJeQwZf3J7mxV0\n",
       "2yAtcMBvx14fsJTwo43NyVmIBsc7ygi0tKeycUQOLbSY+GPiWCpdu/Njgyeitool5RAXqy8YbU1a\n",
       "dwIkQJE/Xe/4ylqctqoBds7Ko4rQ5vfKUcGoj2JD0DtWrPDhUEjBpBLU2u7CnsQX47SaNu0qw0dd\n",
       "ZQQ2X+uFpCUdzbubYmDP771Wv937Kd+QJa2mIx96CDFIO2/RTMA9rSJEMesuyXLIuQ3ZIYvPiO8P\n",
       "7xdUl9039GM9oOP91xUAR6IvelZVHN3S1ErPgRRBZ2HHYu+uv5QKkGuVL8h1w4F5IiKLjwovt8Ba\n",
       "3RK8YnAKB7f6XpI2uK/0HrLxI9kqmwU97tfU9rF2Q/PnitcSpK43qPm5mGTBNhePOfYdPoSnY1nj\n",
       "NbiBOybxg4pmMRKNbd5PdgmLP5Bf6lHYe+qj425aK+MU4W7OqaIjFHG6Wt5z1sUgGG1AYvoHGVHl\n",
       "f0V/nHtE39j6v1tlflGwlidY6cak91+I1maMsR78k/aWSNtTV/MyiZLKpOPm8yiYR7pc4oxZRybS\n",
       "TXPQIbI9MgtYavLnq0zbRFqbNpwl67uz8Ky0kmi6b1Kfm9bbsreeZtDuNYC/nANGm7P4ndZrWeXT\n",
       "Kw2G3sGscw7CXb5gJbQWq5YcTn9/qZRKdPVW21TbzQet7dmO1V8XtstmFZyGjh5r2sVObTqALzvM\n",
       "xEPzqo2PzSrqnBr7wTanh6AFznnqLhLZESNn+/DjgMOKtxgsESEfY5Z4XbVHHXPoyplgCfZeE62H\n",
       "nhh99g4iFOFIHqdf1wrrJqka5KL0MLn5DYandpFR+k+l52x11d9aZ68V/sOsurBISApOpaoawrlH\n",
       "19ES8iF2enwIVG7EOh4xXxhAe3wzV6Y0IgeOj5Nlmm/1Nkkq0+BiJsbGPe5gQQweKvSFeIWAnTLT\n",
       "iA7gnGpSrJjqsQ8UM18U7ZzgUmwDdQiC1+rxt5aHls8S8pTQMkLTHiUJu0Z+S74+8IonAhBIfZ+F\n",
       "7sh8IVbSi+SHTkMG7f4TzzGijrUJvvZ0CwVcP1jvXmhTBBGHpZ1mJKI8AOT2mis7UHpWPNfRRUDS\n",
       "sSozWLDQcfLojTBjfe7aIEY0X1IS98PvL+qb7Hoh14/FYj1WfMG/7/l0yo/YeFNn25fjhI/7c2CF\n",
       "DpAVcsy6KFQ+w7yvLc11+Hct+Dulamybwp+b9fG1Q/IQbtsBBG/KAm4dEuhRJ3NwikUzuXDvB0ri\n",
       "gMNd6G39O2oHEmGMiYAwM3uAurdtWj4B5nGRGfm72b1lBTUAAAMPAZ6EakP/AAX3x4dVG27e436q\n",
       "evTV00a6Q793GjHqvtFBsJx+F8ITaNYS6ZPvrCkWLSpRMgaT6rgkJRQsqKcfD2Dfkw+s3/QcqP1i\n",
       "+97Bk8h/yarFnBDqy8q3o/Pt8CsXCqV/2146l49CyPoZnsN6pj03fkKwh1lvVoGr2DMBkkf9blKZ\n",
       "bmX92DRV0wNb0Q2xd/txZw8kn8l+EZPC3fMC2ZHlGVo9eS7ZFin2iopvwPMqbZ3cCVNXPWT1ZvLt\n",
       "PxR5l+SBMBAOBedsOZ4kLg7q/5LuHhQJx6udTd1Vujh80T7Y2tgPkNq3T9oejJu7o1oj9zh3DGRE\n",
       "n0SktX4WIKAIL6Gt3drfXt79bU5Q4dvq5IoiQ0i56VvSOP68E5xAlImCp7/aJttWy/kt5fadHZIa\n",
       "g5jsDiS06r7sk3h+H+awHO9Bh4WfV+zKLSpv59MWlVGN37UoR1k0XkWQg/sP/NHKgS8PlRhCPLWs\n",
       "gql65/esAzmQUiEOqTZXsNUa7idAhIv8VPUKePd1eBJ0h77U9Oa3UKca6cP+R7/4b3a+B9zlwUWh\n",
       "1ojRmVNcRMiJLXyF7aADZCUTOI0hNbJIFGYU+68hwwLJauw5E+nePLCNAVkAsvOomglE+loh+dV1\n",
       "KVmdgq1unrusoE11fu99aRGER+KzyOhHudyFRg7e8N51/H+E8SXoMVPEmdQqUaBxDNz9Mz1LfXyl\n",
       "f5JviS+VvPsgACYIEsQAMm1RbkwYicTnqQXviGcN95fSeiBIziSdrxbVOe9KPZZv4elu17Cq1ZrX\n",
       "boWSUiXgzqiYqzTW+GQkOAhTxxO6b9zUOniwZ9WyGJF8xDs4Q9HsQ3iOehA1eiorA2OrPzSx0mP1\n",
       "nU2VxD/x3lSMyn2x6B4Uz5kuBMgn41Kan0LQ+R68FbKcTNaJK7Sys9bo3j3eUuYDPKGGCsm+vgW2\n",
       "JntbQc8fmeQ+fT5hI0HHIegmCytxeZxgCOhobrnSIVwPpJi7u0IyPsr/W0Gb7s/wYYokLnhdZ8hw\n",
       "U6pBaZlOdsNBUYAV7LSfzLnlIvYJhI+5AAAEG0GahkmoQWiZTAgn//61KoABMftQ4ZQp+v+ITW0j\n",
       "7Klq10R6euqmPZHrIm3xcPK8+yqtxJpjFtHGUZByrvJm19S7Bfof9tMPmP+b/sDQq6tMYMjp73QD\n",
       "wWA0jOZdLCBFIV9c33xF1unvsR8JnlpNxtWMRFjmaeZrSRgsGEeOMN7BX+Jb6R/2/I8KejabTVnF\n",
       "FlXGzFOiwaM9en1HvZqipgbbe0UA1DIpWCqHuA/wbRAGDBSeP7jieMpm6I8EEtdX2MgK0u10PDRN\n",
       "IK1aGGGcaBgyWVxqS+YvU+h14AoXOqOR6sErU6pqq+DJr28HPbl8Y72iIgvgN0Z+5isLduZCso1Q\n",
       "MUN7ezJycZxNuCS3y4qy4nXRA+iiwB4ej8CbUc1ApRmWENdJjSB7cO0USxWgLFTIjXDLhXU2DHoo\n",
       "gATvpQjH1+KsMHPwSTaEhuz3VN2L4O8CueG7qHdorKXkNcnAY12WUnoh+Vpx1RJOqENEFvr2YaAJ\n",
       "0/cHbIOfIv23nU1fYg+d5muuSdUPiCtLuDSPOHM4r8auK2QUNjnhKzHLPhV1XsG+YRm2E8ggYXsU\n",
       "YZxWzG/jG7TpLvshV94M4n0PtQJCIqQlqJ4jTQ9Ox8C3DJ3W+bbKMnK4EL24DwjuwqyREWEekocK\n",
       "Qm+7qGEK00wuH7/OJovGNPkBPEu2oWEt24vtRHCpXwH0Fj4kclXBlb7wBrgpf6gHvd9/e/ljSWzl\n",
       "T23RYxdObncK6HVWD+PzQO6FrGS5E3hR0wLdEpB8z2qRkmnAll7qolvPwOUw94xT0W3cHHrRx6bI\n",
       "+MhsH/371rX5IyuVd0DiwMKlCIsm1OsURdWjb5SNWekFnkR8Kwi8grHl9+0QXd5rUxOFmdeMNEak\n",
       "x3V/hSOqGUVkl9TEyaIPspgltB3SrhmQItLtdpPtUbMPthK//cmoqsMVrEnTBMQgQd6TutXlO3kq\n",
       "ZaH/aQm8pQo4dATrMesGGACqBd0Oa7AwIiah2Z4NzBYyysxHGri33dznjr7b6FuzLVwT/XQHuVZm\n",
       "0d5Z7PZpv+GdiyFM9DmsRTw8epra5uet6wmYaA+uH28y4aX2pZee+whiodY+zemXPDevkgq1Oe7v\n",
       "cvTV69jy6j+tjaKxQ0xKFe+UgsR5fw0uJtmJ2qcx0aJQJPDtRsAZnoWqh2FQSpwRpc5iKmLtzkSO\n",
       "OoQey1lrd3J5OdTJpmQJn3UKmLKH/aQ4EtjSMYdcahyONf8AQuDUNek3piPNdpDqeKqApMx6WDYz\n",
       "p1YcS/zYYXNc2rNO3sJ4EEybDaqyGY7JUaN4Xq0ZQkFf2HcpVlzhzn6lasuu9+bX/3kyK0kummVq\n",
       "9b3pIEGnnQzDISdlKQhWCQEOC7HBL/xyhbXFoc7A5mmegFzLXOmcL6k+y+A6P9AyfES5vMEAAAbr\n",
       "QZqqSeEKUmUwIJ///rUqgABydaT126sogADnN50zlJPvnhpW4cvrj7Ntq67mrNpqf9z0JCHR5POm\n",
       "dgqiPsT70OZTEBY5dfkqGt35paEk333bh1RWSWFfJhV2oB49dKratxvzsGa0DWiltPNFf/Hdcn2t\n",
       "b5DOH4NP2biKPwibzsdefl3DM4yGygdKG9zloVr4eW3NByMQ00BrZLw791LeBmeH7pf3DnvQTiH5\n",
       "rCSUdFPBwirBu7LSaApCHO8ivCZFYr7KQBVLyOaaRgjGK9mdSLPQTsGS+LXmVQjk5Ki9e+cbFL3v\n",
       "XjqJWxsKJTS3IOyBwM2M3CfXtfNnOt+I4wxzOypMlDPwc9NTDheng57I5zuYLFomRqF0Oba4Nx9h\n",
       "ol0vfHo9djdnAVv+4WyQoXpJv4shRmSfzwoF/Vp08Zw6GFgnqcWjpnbe0pBYWosvvFF4cjHmiY28\n",
       "ERjpqofp6oblfjojSymeeZDIeNyn9W9AOsd7U2qN5QJEQ0+SkUSYdUVDDRiDOwiO/0hmHKk9v+Il\n",
       "gDFOmtJpuXiPHsTpYd9/l8QyPtjlA5YmrtFCmidpW34kjCd5W0UOYU8I7lhAnASTjNkeniRD2Hp7\n",
       "JHknZ9QAcZ/wioj+28NGE+6rxzPXsVsfMzy2qZzEwHk0QHUcDa38IspZrVYb2i/BcHl/PGSuYwwe\n",
       "J48HBJYWUxt5BvLidx86iO3rm09zt3qDpTY8DmpUs9UZ6FyteyNvN44W7FIe6egOxsjmMNChhkeI\n",
       "wdAa24ZToNw4bOwnU6GwI1qnaDN8EBQBCyODx3q8o8GxL33MvWc2v9qcpx+/+pQMvMSERDcr1QBU\n",
       "BU1CwAR2cFI+zGddzSlXtPuwZB+YA6AwiuepLVqFvAwa5eMgsE9ef+Vw62YwXmsZy8eL0JohqmV8\n",
       "z+Tfr6gE3uWyl9MRUmDBnzT2jvFvXvgnd1WrTVlXMaZQn8MOeEZjZIaqeR4Zs93BOd9lkNguuo4m\n",
       "PyDaawvXANB2MzJ0Crxm267YmgKD6wCZRdDGACgVbTNnoAh4w11dZ9kAjJLIu49sLRuQYfF3RV9a\n",
       "MRvbTfmV23Yv3E3x8TWMmNpM2/PjBxiFCwBObsD6gVsmdj/kkTOcCoBxg/C5NUXp8STfb/TSVms7\n",
       "S42CYjk0wxqgPPLGg4oblhAv9NM8p3H8w6jI+K3+tu6AiIIu+31ss6XwrMwCj2DIutQv3/tBg4kg\n",
       "v159viv1bOlmwZGBgWqeWqcmVSvc+amuJssKJusIjf7xtP99o9eFYbFW94jrUk1H8VyRlCpOacxn\n",
       "/XA2QJ9YF2SAhArftTcdNPe8VCA2MgHcnxyuR5BLRF42ZTT9BIogQyMfBmq2vV57JnaWlM0hckAF\n",
       "BBEtfEq54vBljrIw+XLm+Aax0QDCLsEw50ylxt3QXqY57o9Ov3Yd3TnlLbmBw82nG4j+tHlExOy3\n",
       "7i88uPphOcheqHCC1nrZdSCAdw3KC1PHeWNyE3Ou5XNQ0L2FwN1S/+jy2t1Nup8FjXRrApNzNIHx\n",
       "j99GGXq3+H1iDsZcbuU27lmALxTH+C6IlaO5qOPfprcFQyn2HXt4Qh2fxV6DzqFFcLEKqydUQEF3\n",
       "APhg6lZqC5OMGft5uUHm1tU3pZVfmwh2m5ZY//4ip4WsRxSKF++KpqIsz5MvkIfpAcbUpB2RDoSR\n",
       "RsBSEhaJMcZSmH2TDVYz6ifp+DFs8khfeU80EWwRL+AXAekk9MDBImn+L6dNaMeda1wsEXytiufC\n",
       "pa2dztG7kPWSiu2/u6122iCeiwZPvIceLlEHyer/wXSK4J2xm1y3A/ygX6MYns6MctT1vR5t9i6V\n",
       "AZPiB9xD0tmolsJjq94rHjwaAPX4vlNUn5n8zoOPGZXAh57FGMNqumF6nR/8DfOexuLspy/kGSml\n",
       "Iy38emYtCk8b0Z6egkg4bwAOQcnI2btnSSxqQ7WRIpuzc9i8kgnG36z2t/nEfVJkdwsceIV32Ccm\n",
       "Tv3zguDRi+IjiAGMvf8CMoL/xciSNuBGSGKfkGLDf5wnrUu1GjKdsyfljqSXiGl3d3hzp7w3ROE2\n",
       "v8mzhIZ72hkOWSTcpo5hKy7eTNvSKmUZYAOaMnFPfuQkDr90tMQ/Gq/b0kkeaAzptD7bzqTJ6vif\n",
       "tH7Uj7rL18BWh/V1hVkt0h3Ak3rrEsoxKEEOMmUIEUSbQB0Ntb/CIzmS/yOJ1ajHnkStB6bq+fF3\n",
       "3CnXmvllfwPazgBMVqD9QRwzwuj3PDZjNnRSwYRgX9DuuPKE8VTFhc9r3L3bQDM3GwMdbQkZTAzQ\n",
       "ho1dGVkSHhQPg8B/PlMNOuGTApuQvmDrUnqZr/27w4RgWzJ6RcpzeDlTWWynyXK9PoUO3gACdF01\n",
       "Cc+ogQAABExBnshFNEwQ/wACskZuh2tidfpoaOOuaQtO4AAnb58CDGZU5j+96YOIiPOqhn+7f+aL\n",
       "DHxO5/6HxvUY289lAxQUVXZfDPXqEA3eTgtu6Fp91GwSZxOVwWcGhKFv/E9Ky440dNlc5YG5C5SY\n",
       "yTeQmabFfHSI0vejX5NazgBwQa69oCxBo2FN0IojJbob8LtiLvcLWzZYOmL576DC7C/fSzgysRXd\n",
       "gi0+oOwf6cojfBfGZX28tFBBmsNTpkAC/ZAbrG19eyC2CXmG3yOtyeyOErQPkmQo1bhUOV2ba/D/\n",
       "yL46hT810e7l/SmPzCzVLkhuexNkXCryZnIayVwXbiPWCvwMG/eetcUhSCFIoIanDQ9xuxlZPXOZ\n",
       "FCLY3nYHY7/Rvy63LUNFkHUdgOVFZ6njjPoOPbr5Ft1CxK4eJWr3pciFjUOhMiKIcthJSDNVOmZu\n",
       "CMO5Igl4InDa+GSdLBlxBZQYQCGI1PZSi3HpOA9t4RY1Io7cjjwZl8xmYNexjNanSL5sGnhb+9ge\n",
       "4npcEXpR0tXD1MHYTbs8pU2B2eAJ3WgVXrFCyDMAIkq/NotzOqRxoQHPJcXvvjfTZ7ayCLvL8OLT\n",
       "1/sm9qJHw8vnZYge5u2Xgol8Y7oZF7eT6kK3Zu/hm0k1QrFHhxvVf3UOqAPUzLOClutGxOg/DElg\n",
       "F7Mtvn/91bpBior/WM6GRx/OjpgAADhZRoxkC4NhzCHyPNnMknuNeiqDTN5GyCB31d+fIsnCZsZ3\n",
       "qX37Ae1ZlFUTuvQizvwPtJZl+Q17Fju6PmuYyHYnAWMhvEwaI8vYcL8uePbVtH6dFXTkzcUSYw0f\n",
       "BHah6wx0BXr+QOAmg9MG3Z+Zri9mYO41KDV+rpQNtmeYbFY65px7tGkMthqZkB5rCx0DK3GV9T7B\n",
       "HfXeiWIhWp0wMzYlVUOkKPxtRSxYMb3L5+Onrsv0qTKb1vG5BttdDfJ48WxJBdQKlYb3naOJrsu7\n",
       "x+feibKdqr3DoCylSbO05MbD55SgfzDwtOshpywHYfIUClImO3eTOkj0t+bxbLVi6wMKDbagQVpb\n",
       "MLhlhmJ6fILinbp5KApdIeradNDbl7r4QggdeC1I3h985KJZT9g/TRC25nWiGonc5GRo2H2UqKze\n",
       "tB/d6NmZ26STpNqKN23UcLU36JnqsHHW4zB/n2AaIyQfDR+RL/B7cH4kN8yEeG4X61Si8ABlMoGB\n",
       "vsRN/1l8kQA4hBkCOLkQKkN/QRow+Oxh69HaCXO/1My83lVhZ9Mb6ekBpgGbGI+M1UcuzIw7/X3U\n",
       "1/Bjaosl558EHc6EsE8n5Qdc7IiUqTodWvBhc7gPLZOrWUVdE3/12t4ycgww3M+bVOVw4jc1ubVo\n",
       "A6m7bJ3vJl27yURL5QkBrRd6Az5Jh73cfkJsBdgpgyLbigSVP1Sss4JjjtVLnwTfOYmxz4t2/Ikm\n",
       "tdxDc2On9aKXnoheY6CpgTFA60phvU/QBAAAAloBnud0Q/8ABfbpRnZJP77tWB5fKxYAH5suz6LG\n",
       "9EsAjHkpXpQ8Ly2wAEqsS/8of7FNrbLJCboAIwnhxJfmYXH6lbCFUQqspzV04KcW1J2bmSqph6g7\n",
       "c/H+WIVXHaso2bSAyJmXJc+waGdMW0LxQ5sCXa+R7qA1QAAHJb6pgga+M3+e0pGPDtngqi1KG8NU\n",
       "G7Mea9GpVh/yScOVWmp50arC/aVnnyBo65BzpPUVDPr8fFvK2Qe2O0a+oA02S/yNbfTyuogupIkE\n",
       "7Xub/vWzh+87FZxnc4gQjd9MDTpiqomhkG06vaAlpWAlRFQ4ZDonpmve840WrhEHsWmwYczGey4d\n",
       "hNo7rJDT5yc5LEDPQW5KOS4Lktr/VRzMuQMe4xQSpWayG+M1czsw7p6yaf1YidFG9tdYGYQYpD4y\n",
       "2ukkfaaeiiZVWapZi7uVW2bCHaXE/FuHz4VtXXrRMM7Ugn3QFRTWSiMMLEgs5tX4GMobNUuXaFTg\n",
       "d4QQy6yZ2q6RFspzlfLK1KmIPdVGI1lGhFcwl7oxlHsJ2R5fkEtHl4G/iIBE8JuvVz7ROJ0e0A3+\n",
       "KhxcqetHYdfPv3WIuQkFFXYk0h6YvmPwiS0FL/LmJnxsUotZ5bDhWPGnMfQ/XowrjAOYhGE2NBla\n",
       "oms0pnU2tuPfDitcJiaX0qhjw0wCDCJliH986QyydTjoCpuKSrNgNOK562yIgLjL1k2O/okyh32b\n",
       "blhp5g2UOnNg7TjRXDBU7cxb6ghqWLi0mX2PO6UkhpWJu62YKRom01q5B82f36eqbx34r6qPTdS5\n",
       "/QZkDwAAAm8BnulqQ/8ABffHh1UbDrPWVw/PbUSrqkiTmu1lXf3EYAK4u93VmpfIGtSXhSF8uSTI\n",
       "P43bED4QQm+iRRGrZhZKjwROV029/VnQk1WDfvrYZUAocmSrkB1jgDK0X3LzFJZitGzcDXyMkoxb\n",
       "KkqHZf0STNLvK+pY1LY15rMwTepWt+iwIK97M/GkpCYuYTSa8yGVsDEzvEUxWA8daTlTlLm9HNQt\n",
       "QUbhr0kYCH4rs0Jgt1UpgC0nJR6kbmT4ctwVYHSCCPKv5pngcnkRHCOakCFWSgjab2Qz5n8J+Kcj\n",
       "RPMStRFuFbt0Bb5MuDmZ7ysInilORg92enyp7cBZGbgPFwsP7jFAtJuKRGBST+q0eq+Is13WOu1d\n",
       "W0iJCBu+v3QB513YDyVbrHJn35yL8PVybPQrd9A4snB+4wzsD5i/fBnVnydM8mIgHZ9oydeUenxa\n",
       "a+/Z0RBGHeV1GRTVNEH5HQEiL2SWTKzcPgJGzPWjHslRzF9oJ/xrpNLD+dnUqcVssXtDzy4vHFoH\n",
       "xqagi2plgwkyicWHtNWryws7bkeQ0L94qMwFLA+GozbWfuVmVEl0LgjRyTfpc4nnDCiQH8qYkVgp\n",
       "y2BzjFJY4rm89GqEPQ+HrrG7hAEqp/x7u/Q54EXIPj+hU4sUAJ+X+tb8vfSJflohV3MPGhJH3UvS\n",
       "kJiFqUoGvBsqGh7lov3eiX3hyNV+sjXXEXgpDGSaPF/GYmf937LN8niiNXuKW1GYuwEIL+QQvBbo\n",
       "2qdQWcV23acCPNmFYM4Fel0mRCmxN+/HUz+hnn0q6xVzDUSC8rgFJ61J3DWCgPFch5HSPY1SIyk9\n",
       "NeNYnQAAB1BBmu5JqEFomUwIJ//+tSqAAHJ1pH2B+4U/mACEUV3OLdinO8URadm21Lz0WFOfnlLd\n",
       "ylqBWHoO2e6zdjUlg1KupdGKc8nujKpZfZnyy8FDLPuCahZd+FfdYiMe+/aJHk5yV6I5/zWyIU2T\n",
       "68igBzEOgMvf96YC/9fshMyBb33M9NhUpfAFWEzgS3t6MfMGQ6VC/jpXrYR2x1ytXaAYPBMoWjS7\n",
       "4jux9Dy34OIHdlttneGJwhXZ8b+JfYoG17ObTVotPi4r3Hh7qw0zsCoc17ikn1QrAjHxmR5Llng1\n",
       "PMlfDCB2nZyFpEMQkoua0RQomW3lI8ROk2X7AdG9IbRaY4JIJsXiuoejdzBt/hTFp4TFesZ0WSNy\n",
       "6nPlaE0ff+PPyzvH1TfhI6YwQmCf94fDB41bxJq2kYi5TxiBiX9jU3etqOR6ZwjYLhUI1DD9GaY5\n",
       "Up943HtdnzkOGMS5gexrbSavhnh7dqUG81T9/IQg6ECQVY8ZjdulB0raas7wBqCuxis/t/nVKuzH\n",
       "+FK+gMqzdaXPRS0ZL4Z+zv/69+UcE0OdKkUcKPOyHOCj/o3hsg59s937UtF/UUaX8LddJa8xx5ul\n",
       "OSsnDT8TIPFavOwTkYTJZQTY8MdD85mmFNN7nN66CfrEmi//B1/JUMzaamIJnrmYDDUMn+zsakoO\n",
       "K2U4nNIZphHGhSVa1gOjsqMQxZT91l2uTyUAOwBxZBkDARwSVG2xFN0D8nvgdGFEfmyNZOrU0RnV\n",
       "MtuMxgM4N/UFjuJlwWNiu+OPunhIvLlZANcPjsTQZ+mwBIHF0rrLppfiq8DdvYAAC5OhvMHv3uLS\n",
       "c6xWonGvc5GAIkh7WcPWAjx0cpjOdoaBVWS1emSe67EEwnnScSweSV2b8gD3g5cw8yxCb4B5W47I\n",
       "xsqZg/sMzcTeMhFWp+2DMXzzN8Zp9RxxXGbK5IrjUCI3Zh956rGlI+D3w+dDZIYBXxF8EoJFaPWD\n",
       "Vui9mQEPHxVRZvpux0368GondWoSMnIuC7sEa0BLSSoTEs7PuIRnhIrCvjRPHnDFksm5wHufItxU\n",
       "KXzorFEjLXKvKiWNAMi/wI2VB1+nUak15PtUB0hOzsqgxKTe4xl4WN+84iXomj4sS42gFJDKAkJz\n",
       "XSK997dOXsaD2rGD3G4+RcgqQ6ZjAETpegqu4MJRvj3FoXS3uajiH5gYKt7xJMF/Qs28lwz1wiid\n",
       "lzl8/2D/Jfqap2AMnVIuuocyo4sp50igknk1a2HmEY7DchPDKNRNjXpT9dnZUKXZ3ay6W2ueKbz9\n",
       "yMQgbYMv4q0VnSEGQXmWD2QXgk8583VFy9Yx25pECoqnksHh+U2v3sDuH915NYtKTVKtear14IyH\n",
       "p5/zOO1ZdbuQAdSoW1EtUGEmblTPYjkgQbwqOkNXkMqrxfWTOS4AAWQw/E3n7AlbeWQbsfgyso9u\n",
       "yj73lfMh0dalVF1fOvYP7NioUOzG3zbcJ7UNIxy/5Czg6fckLbcNein4Yud9enSD0F98jI1Axfar\n",
       "6BB36QS3dQdDYPZB0ya+X/dcIyvZShqRGr84QyKGEHu6fR662OpjnMoSMCx+5/udXnnIYWMAXeB6\n",
       "ecnRLmuqJ7hQsbAT2EEYm4JVXbYK589vR1h7E0cq1lR+GzySqZRiFcLrxCU/p+FXeAOeJLBIruPT\n",
       "RGJAu7BYiNXcXH0PQsTq42RS18/WO8aQCVaH7DzhGMBCi0mFPkD/PpL1HMaR9Tvti/yPzoLMZWLr\n",
       "2IsWRT6XwGBZlKEykoeQFqsO3Cl7N9lHtXlzVXAl4Yy9diWxTeR3PzJNQkQtl+LKKVogNBhCtW9S\n",
       "8Pzbj9jpI2+rag5VFZY2qMJ+sPoOIq2FqVawwg5/8aIXj2t2E/BBJ9hs2ar3NENqQzCgn3z68MFB\n",
       "59h/mhsDTrMwA5+F38bTzyOUlFoBtaAjo+mwOvs7Ez8dtWRdB9iGaGBmNWcQZXp2tqLDXDjVDBS2\n",
       "OHQ37XvKVyXdo4/G7G0BITzHqBTl1n0Xjroj1Y7jclZdzI7yrovmKQvvxDNmrfDtQ4w89q7ifEHs\n",
       "EOXETkwjXr6cdug6IxJZWmPPIqyXNAiJEQTo3NEF2JWnUfZv0L9RaE2uVgsSpa09KU5ZrriKNTm5\n",
       "KQo+gDU5JiuDdGjmfMUAeBuPoEIqVZOnWUZavFQ5LjI/pSqIrharuR8eyNn54f0EL5TEsZR37oKR\n",
       "TklhdmnI047pFy7RnCv0SZRG6N6HuOPCX2lHUqQwBaMwDYK6znwav9Eh3DqYkMsOB3ADGHEDzGw5\n",
       "UgDDZwD1CEjFVl5VGio70mHgn1i3qilGjkjUUv+l2NNBPOxrZWek8usKkUd48M5bCZSqD3GthhLv\n",
       "Gn0afQHssktPxLrSafTcBf4IYoU8ov16gGt7GPB0jub+NgUtjcw4LKtgDOdytG3+A3Nyh6w7V6Zs\n",
       "vtIzYAwfpnhUAmVx7+BnVmmfGqD++YM39QvlZToAREcla1aACKPg5dr6OhtiMU5CWWDxDuVgdcAA\n",
       "AAQYQZ8MRREsEP8AArJaafaQrL10enrkT3X8ALqrcFpef6Vo0zzoy8o4fceTA1Pl5nODxccrFAmd\n",
       "QzXXEAe5P4rbGLgYhTerrmnGQKWoDhLge9Yz6dPhVaYH8P4AwDOmMJpEO6WGJDaB3V7aRC7oO1lv\n",
       "6ASiLaKNIYGNH8z9zfDn/oZyqv704jBXHgng02e/75PfGBcrNE3nphQccR2zMkAcgPA/UScgLHZe\n",
       "7vDsVO9upxIWVrVOPivHoW/XtYyluD8n5j8T3DcsaNcSPdOcKBsdGWmN5lvuDDmShddmAYNPp32R\n",
       "5d7mWSDplA6OFvCSpGcvN2QZut9+kvDuWiit2OnXbutR8RZe2KTy0ZYeZS5/4LIDWB9RkZy3Qpad\n",
       "5t2lC48wktoFLtyxjcyfbcBaKG28utg5aIryOWXS/97+U/Kh5c0b3ObNOqVDEzDqwxV/hPlVqU5M\n",
       "d+BjwQatr0BTuDZZ9u//wxitHmr5+76A6mQEHvQx2lT5FXOYCSbxzCpeCOSr6+OBy2Q3y7VyQTfT\n",
       "6Epl+ibdH/oASY4w406WKEfuRc1DcPKOeXZqmCRIKW69r0FYXHh6mlQDd6TUiRWdbfukAZb2LuZa\n",
       "9oBI6hpYYAVrsKx2j5GqZ0n0XI6NzS6ZCek5Pgry9OqM5q3Q4PEtELVMB8AcniKn6NjQ4v5WZvJW\n",
       "7ZducGfrievkdtxP8S1aYYCsFob7EDz7jjY9qs74LLd+0eLIzMw1H/o5RQF00v3dumqHLGybS8D3\n",
       "jEXfnj/8jG8HME9wouX0W5RMQQOt0zM3KP7dSM9iBpeY9/BvES3h//lCCm/TAz8OjrX36hszrN2q\n",
       "K1HzEFlB9E6ESVdT/wPINcKkWftrg9w4wrbJH7CSPvvTlzaeUBktMoSixiJiBytmDAsD0wvTSXPr\n",
       "jNBk0f162ExWoJWuvAFBYuc0dQuS569WGmV0v6aRWUCw/3ypPavUMNSuv6xbeyQhFbxpgWQbT6PV\n",
       "NvYHx2OMs+bqrKI16V4dZf6Iq/4FP/SID/HJPx3D+9NhmBuHMCcqybAo3ZBxeruwZqKNODbFFG6q\n",
       "7P3ad4sMd1OU0WjJVIk2ZybxSpXs+XvngNaRPPNj/j66aoDtZPIl+HXvn4g3cj+meMpImrWChR9O\n",
       "2a+9jAf+etJBxDdVkllqxTxn6HIwI0D4L6TrMa4hAla9HkYkgwWsdTZHKCktlRoJBvFsgPAaAxWd\n",
       "lmMT2rafQMAj9eZdep8RlMcRlrVD28xmo9E+nLkyIgk1ZHfGe7rJWR28WjDcc17Bd9DNdgfnGOvx\n",
       "bx6ver4m7K8MhRGW9SdkGxZOrJnYwsp1On2kLPJ9iFh8TyLbDCt3wlp5l/5HylKbDYKaF4XkRftv\n",
       "7xr3cPkeRf3HU5jL+LOjrcCm4JQsMoqJ1gAAAicBnyt0Q/8ABfbpRnZJtknQghwnyxLmy+wAgbaA\n",
       "T10SCLCyyO128aJr7abyZ19Uow3T+h2Hsg/dJgId7HCDu98MEGqCie+AlzAIF7JZVV0IRGIH96+p\n",
       "GFba6x6gFPwXc1cW9o+kQMR2+8v35U07IKr1VibVYWEgQmcFBvl8F00di1S1v1iwVUBSZANWsvaI\n",
       "mqO+qYTwZGC3kcEXdLwtuCToTqC+A+1TbC6QRaBUSgpjCjLkn1kiljlwXhPxZuKXNKNFR3Xpk/7z\n",
       "iDCgNa3mmKiHyt9jmlmg9CW2GJWXjgbuLYGeGzNEKYF14kWL1fwnEuXZeTWIXG3efuC/6rjOC2sw\n",
       "uKANbVJbYeNUz44UNpBl6uRDu4qnGwoHMmGciIUorvvSrjUz0Tbw/vis7E/HkbaAp6J4rK3s5uNS\n",
       "QhDA0LYN7+jum8wCYpVpJcDw84hcY3E7tIWQytdgK6VHdL3/cYH1HvvPE9Y/KmBk3N4bql0NpgCi\n",
       "ee5Zh3hdSiAX1ZWkpnVKud3xVDD0UC/3O8XgSr8So9Tmwf/k+PUqhA8TemMz6TDcgV1dKfXyQEiC\n",
       "hc36xfmaVLszSRgYf8eeWYnrn2GKNTUqUa8M0nE6o2wyU8UB03T/FRGQMzlcEQRb2jftcyveraGM\n",
       "LcRnRk6DxmLsdyCSQD4GAL9vH+nuynf3bS06CsXH9ImPk5dAcPmEaaDFadXOsVRPBen7DH4jF5Hw\n",
       "joKlobxlX1ls3wAAAn0Bny1qQ/8ABffHh1UbDXN+ypSso6ABKQ95ma8nLgCxj+J+X8kVR8g1ZIi0\n",
       "0XpCclikKmCXnkOnxzm4hTRKZMTMkoDHJs3kDurQHfZYKDbAt/bmTL4ovNsqC+OQEWwj+aU3SQ7S\n",
       "Cs0cfWI5qbqjVHyAOKf0QG+EzucKpGEPSWTaxYsGYDQ/6s+okth7+3o5qkYdAfsPwIBA0fgCJcur\n",
       "3Ra5v5ISGsIgtM/NvBjR143RB7VcUySidBymqNqeh5GZ3X106US7oyNvYqIORADLVqLfkph/QW//\n",
       "TKAEBFsAb9JnT04AA1uKNt/jAKHfLS53pMo7haO0qrhz+eS9/a51Y3BVnFKKkwLkYUKfpTpSN4dS\n",
       "GHP5mkFM7S0NxsjcUdVVHjCP4sHeeLL2lPkUG0D+VXh0ZXDOSJPWs+f3opKPp/KfzuZG6UPXl6iO\n",
       "paA2ydYYAv6Tvv1JO4istbVk0duzr2vfuyY3JEBUl+sAoW55icfYap+qr4QwxyTVWvO1uTJjngSL\n",
       "t7IfWCKOLGI2Jzw+XtE/+s6R891ER+croEpqcFB/GdPcFhkAWgyVI66ZNnvM+nAZKHH7UgNopatO\n",
       "e5hJci6hiXsSOTwjnfsPu92lXYmu0cbfePpwhTVeasxttq4LWUQ2mfFv+GzyxBVP32utRajA6zbk\n",
       "jM/UGUzOY4KTon9UbL2G0gIpH6xiUDL+s9g9ZQZGaeIfM2LS/5HTsMzB+TU2TfR+SGBLXQvNWmpz\n",
       "ir4XcTXRNX+fK/VU7LiPDjv4RYzQznWu4YhIZevRy7Xnwyp5eVBEd2F5pe4Tm5p9AD1jKlJdDGJO\n",
       "/G3B5R/hw3SCCNqJG2qSaIPnwwJFbxcVAAAFrUGbMEmoQWyZTBRME//+tSqAAOPAcwAJrUsznF90\n",
       "tPe09U5DSfrfGbD9BlQyzWW6LWyNehijVF0d3ObGWgh/8OMUXnQFCMQUvbtY1T5oILRFntkBEXL1\n",
       "fSaxgHdfUCgVgjfcF/6nh4/mKF6S2biL4GDr4aT1dfgX+Gylra7PRJtPzJrhwN64P7RmlrQWnnjL\n",
       "8fGCQhBd6PI0/uJ+GMuyA0NqW2ACFC77oJy3joLp8dCURUde9jlNoVSRFXmL7597q3Z2HBZ5T73G\n",
       "+bTcdZH/WBJWs0GAzN5dJ2l4tnk6LzA/cohY5pYXFYtWhGEtCWbzZ1EnTLWnIS7x9wI22Vo3cxE6\n",
       "CKtwXPEih6KqMuY/U1jRqWLdZ9renNZSrLAztceERYp/LcyWI9XkbvEcAJAyGJJzT0xbLy+thb/3\n",
       "cO6DW+YoWKHTvbGtaVBk1thIvqiD410sZAmlgEsoUlFwPpXIdZJ8h4KJMWhXIDNoLjQfMWt8oT2R\n",
       "Ty4332iFDrHhgb/eB35uOqRN+/16VO/gUcEh4CvDbJlNkCwNpRYdtVdtA0NSR/HgnF8qN25Dz2DP\n",
       "+rJk1mLH/QdUKiaA0xdEGOou9FYOvqy7F5Sb4mu3DvijzLUNr3rS0kIS1+m1xQfNMBvOTMwEUyyG\n",
       "zlaBw/xDmtiniQt1ehY5ov/e8ZAAgDLiGanaWqrgvMQArn0Rxj71/yocTgQ32HKdLr0qPxjvX1oQ\n",
       "GOvDrpsj6i3TF8LRdKP6LGtuTLg1UMMfqcWK88OAN5aX9MrsjAWpvqBXIlY0vsyly2bse7DULVzL\n",
       "JDlJXbF5ElrN7NH2jVdPY/Qub0xnzNND2Q4N3JAq5GPwYTA7NxQf1X9OZfmfHAlavXAlO/JSvwzp\n",
       "wdNNUXxoTz53PQURcSaeRtD4v1dsj4eBODpLu1r/Y2LccH/EakINBM4qrUfZkjCF6++zsxiPEoPJ\n",
       "iQe5Tx9KOvGFJYtjH889qVY2YJ4whaHeU/kWIiMYo0FBKQUiI8I1I/Gs+EJf6yFkiG14A9Qpsw7u\n",
       "8dZF+iGJQkcDehPUCFBqvKZL9XYLKzy0xU80xI48cRInOR3LQNFBwkWEvN1EICeAqbHK+X4Z1hDx\n",
       "c2YWMH02NB4EDRyqODuPPGrQJfFHVKLByzShYUryO9WZgX0mWON9/NE/8nqCaC0MIk4gHTVcbUSr\n",
       "jqRHyn7ZR3AIeTLE1ThohLC3mCVQ8FP8wIDzN6UvEPrgPqrAQASYxVOdksKvVnQIivw9/X2chiA3\n",
       "Cq3U7RSG23OIa6o4ubWVB1CWqzTKSUObnIP97mVC/zIS9uBCQa1R4D1CKUYGLkEY+2FgeJE2tbYI\n",
       "7WUdppWtz0hfi/HLluvE3vzsVhBEfTYwU8KaEv9H3YkOGpbvwwPmV0Sh/Q5a7fEux/nzCWqtKS3H\n",
       "6lNndPUUebdTyh00+dxnfPXMg69igIyzEc+O+A3DBbj7JvxGZX8vXpnSsdXx9U62wQPiwsVxFNvw\n",
       "BUA+gv0lAJZGee9Nkc9dr8wCkO5X23fMbaMb7aZnIHXVoqa0ISx84Hc4vZICi8o6dUi8zvmnz4Hq\n",
       "nr33Uzz2TKhOEyccP+UdtdhyYl0PIdktp1pXpswRIUqbsEu/nQH+03zHoXbWZpZNIi3IsoPWJ9D4\n",
       "LpsUSItv3t05ayAOTAeoywzunhom4hF5obwgh94EdEq0dQqmPsK97eOelkq29Wb7qDSXnpArymFG\n",
       "OppgNU2o+hpyY5t5hlOuy/BMcqUGXNefjv2p1R+Yq3UiVljHX178dcSwPgnPvDp31ku73eCH9isP\n",
       "r/sgJINnahvL082PZjfGU6bC6v4/ZJHbFoL0sOYfH0kw6utWiwLrhJQG2SKrJ6yJDcspJtQWzd4/\n",
       "VYjjQ4tpsdKqW1cX2pEU9xMXV8piqoH9N+pepMWOdTsFST+D4Awa4x5H5jSjFqaMne98RIYsJrUA\n",
       "AAH/AZ9PakP/AAX4MtRiNLYAE7eqtOyFCbcGn9XBf2cqr4ZOMBjCjGXK+33m50zKTETMg4+JMtFD\n",
       "sSUwDLfqvehXAvvLC7piUsdbrxKR5O5H7U+3M5EmDR5qwV9MNJAIhA2B4Rg+o5iiX5SwRbWcG2Sd\n",
       "5mwMzK+Gunj0M4HFjUvRE7+q+UlnYGdkD5hG0OrWZNmOxe4ESQGML5+WE5uYKo/VsfyO095IyYzZ\n",
       "7NA69pNz26DLaq2RhkULkoQH/RPuCSABJcRAkWlPrmFrfdMdoVenge+9CKo5pSiMMGO82Xmg7550\n",
       "wscrngHJGE2+23OMEdieDQDZImQ0gQ51sNYwePmWsrqdbJ+rft6kOlopNmyrMeLGT8p8BZf/R/Xz\n",
       "37YSlReWMGPU9SWYT6VqbueHLt4Rg8YqAr+wiBYd8fhelI8MTzfUKwrO6QtYY4sMjj7xDV1V3XHA\n",
       "tRricF/vpAEcxzX1eLtLs06KLYPjocXw6K5xuQE4RmL76GgAvMnOxvETO3H+bl9M4/VmvItVE5ys\n",
       "NRzAOueaTgyUO88YwamsoH3np9Q8LHv3mK5zIcQ0pRGd1WYBNcmjCmZewDHrMwQ6nqft5un+Jxgt\n",
       "AsUdUcDz/ReYKNVuvNybhcXv0p0Gd6ue0tNSNppfSbPYBOs9CgIur58S+XlB+BS2HHxjHLfc130J\n",
       "XwAABixBm1RJ4QpSZTAgl//+tSqAAOPMrQMAHHUkpA4HwT4XE5kT9gbl9C3knLs7ERZdMuNTCpcY\n",
       "tIKwRJAjLTRJb11UWPCXBaymEw5OZ6UzseB1qVX7pOLD+7z6flxKZYUgEkB81R3X4IxULgKydicO\n",
       "uv0PCO0b79z1tKVHlvokdKHhR1NLKl4RhiQ3k4Rjo3/G6loHDXjZCzaGv2qG7idocq5oh0SUm9pU\n",
       "x7iDM5kwhUH1Vua+1bj4D5L4x0hBlrPtNdws7VrWsXGOW1ULbtzx5xhE9r0f1RNiYhKhmxj4hblD\n",
       "tE4tpOSBJSUQ0SopqCJ/32joLtUo9Qfp7rp8mD/ItUs8UpOAblp9r1dneV+241TJJllt3cyysp0K\n",
       "BZqTHLGXnmZuk2MLRlmkl49VAHh6LIuZGa5GAUnJHCgR1uwavQ52lV/DJE9QHBcVdGNnBtRXbA1z\n",
       "lJpE184cIy1dU6YtX87Ba9k6baQDAvdgpqP5LpfHZQGaN2IKGbldhYtg4ZbP103Ku3aGckveuxQM\n",
       "wQbahvaFciOPFul6JuSyxrdmhqBBXwPEgOgImIILJ+NS/QL2nfEadioptsGh6IZPObYdPJvr1KKT\n",
       "tufgsaNUM3VndhvaM8qzL78qwfWlcOunDBPe/dx4zlS5LpNHSGG9RUIdz9X2rpLnZFiColLSz7N/\n",
       "oDlcDTHqkqSq0XyMyNBK1ioTEtQ/GaFg5bEx4nizR0XY6K2NkkNO+5oS6tLvnUYHsOmu50KU9ib1\n",
       "8naafChpjmRYKkoEiwMh5VtJkKU533SML8QRB7C64ZdxarhjnuOZ9ps7dDchBQv8Bt8iLdX7gKOD\n",
       "XoUTUddAxghhCxzDoX9hFEYAGYXkfPGjrJxo0v6h8heam4BQX4dYZJ3pOkXnZroXq6w8W/bSndn/\n",
       "A+jWpFvbs6nhGhCo4egDUrnFKbbxUH5tNS1RbuNyg7CV+WZiWf2mkPwiNXDPhr4bPdUmSFFIG/5J\n",
       "EYoumHszIbmCz+fbndH+7JeAcjRr/OPuXq3F2iIa01LKgK5AnjvBp8zVk/3m+QpNcU43qFMOmJMo\n",
       "wRBE5h1aIhpD1qE/azbMaHZlHRW7CltWbNpWa8NtzwglEWsBJdERWGVJhSWflfxddsSGmjuT+fHT\n",
       "PN52qjxr3ISJxbXF4PhY2nysQUBNrtnI/5eJWukFtqohlQ1ntjWfr1tV/cLLPye5KJnJaWnRu4Ny\n",
       "afs9C0nQyRNl/b8vbXf/0sLiwbSLyH2EObCnMm6oBpPFSKiGz11WRwltIBT/4ethmPKpsq9/5IN8\n",
       "ir01sXGXvYRVreztm/e+qbhntsvkGYoUPu+JBDroopOVoTCNtSZar36mh6a4pXTomxoK41SkbQtQ\n",
       "5Emv5bXw5cZ0K79T0YVrEK2KN85R8yMmvvtqkSUM7UFrxCeWRvMsoXA9IQpui9VFdKNeZ3RW+CYs\n",
       "Rd5NoWRvS/Dj9FzD9SyB5GBwEMAjH4+EtvX09Lf4iv/uMzgYy32ziaEikpaKPifIEIFQcPEOzzBr\n",
       "urhig+LPTXDQ6QCB+6vILr5v1S+fi2vhvBBWLGyAkA0vUMchwBiJyoQe2RCwlaCHnAgCRz78Kza9\n",
       "icVFaEWQDc+jFX8/NsV/PIfY3HtuYL2hqE89I4TurWfENa65p4uWl95LbFY9JBvtu/14gTRfEXpq\n",
       "XTc0wGG1j9EmCV9TXKNhwcH9zvj8NvgV++L7Qr2eVI2MoE1oQQmMDXKg+t+4ulsnzPHK/nK6HCYu\n",
       "2nuYdkBMrhW8PFtbVPGTAyQaMav56pl7LqQi/7skH9c0xHaPgutKZjSPTGS8cFIl+oK7w5LGQubW\n",
       "JJnJWhoS8YXLOAsAue12YYHlqqUNK6oDhI6l5ti340jWpw+5kiOarhw9L8nWCPyeaPzkp2zFdDGX\n",
       "9DB6GuZKw+Q1tHQJHgt3JGXw8jGHtSb1eM90EDJhMExQBo769Y6CjXhnZTjdNijj76VWlrNN9UC9\n",
       "ckb4Pyms38NDtirUMqFhlIBRO0hrcz8gaswnBeB8Wn/ncV7YO6/T1IqtKuEtjnzAUozdk4DlofP0\n",
       "0SmlHTMjovdoufz0In8pAman8QmWNKgI/O0RNn/8hKlxlQ+Ey+PE/RcOcRy9oQAAAppBn3JFNEwQ\n",
       "/wACskZuuskML0H9Nl+AATkrwNTPFOfc8axJ0utX7zJUm/3puNEXFnVj32d2hqqW8Ud9m9nD/Kby\n",
       "GJfPPWM9mtW1zFMrhay1z7s2UYgriSfpbk5oZIZBpeLZhgR1uxqy4iRTqR0bW1cuO5kOVl/Q7jLX\n",
       "OL9w044CQqoHOq7JPdzIjeNsosU/S3XlfIKxVBPJuyYNqDZ+XdapcA0KRpJqNR7RyQADclaofHkO\n",
       "wTAZzf2XJCo7CndAZoPwhTfS37ApfBLD5aJBxVKcxaHEoY4hRo+Caxw13EQNhwGQws/QyWo13gyK\n",
       "PfMD0x44tA0763FetNt1EzZDXVMGZdys6BL2L/vRLpumzGO5Wic8bbbi5xz03MilEmyXO1w9JFAZ\n",
       "L8pVHqNLvhnq395IE5pDuXI2akGB+mO4A7EJ9BfoJYRKwlnCqOL07D1ALXTaEodvPPIdcSjX12Qr\n",
       "JoK+G8lOKW70YA0egJxcaBC+06lay9ReWWbmSM8MuoLocLpBrrxvvw7A3ZXK5wkzj/Qte8v8eJRz\n",
       "OUeeIcMXWrZYG9rmRwfYJsV81vdfac97P5/6Szo85+o2gsCb/MQx6Yx+AwyA+Vq2PR12+yt1eWXM\n",
       "bs6Hv3rfDxQMs2s/zlp8N66yOyZadouDOGp2nTqEPESkdY8SFiXfVthGtzm4URlN1NPUQYrc/SJd\n",
       "+gAX/OX9iJrd6t6T2IURpaNzMbJGfkONGeNDRjIwnwBYKbJUoJiR+bh07c0ARaXcyqDgra5+u20D\n",
       "losGvy0SxR8x2CVso5urCrgmq/EZOhFSgbkIIRqJMYq3VOdKx8W+7HaqZMOMcXnydvyoZXxh0AaW\n",
       "LNW7ntfpePSW5L2bQtofKSISJN/eE0kLeHLBabbB04EAAAGwAZ+RdEP/AAX26UkGHvIIvnztACck\n",
       "sjKmRr1+NZ6HdFE4W0fd1urclFsBvaa0O2M+8YAdGC32H9qJAwgB1RY1laUeKayeGe/gdFOYV0kE\n",
       "CElGxM6/X0iC863Up6jPSmTQRvvLAg2wUUdHbRLphQpnV8pdU4zEqjBRyqIwsQ4fhZJnKVqKwuoh\n",
       "YmuaMi/OLFPlViiHlKYiDpCWackpq41nfkYuCVJbJagXYKkQ1758oV2NS6+zUO6bCCl5JOLBZhvm\n",
       "RjVtxi3ZLRv6CXlvmyejUJP9r3Wvorw43VAkbENt747kJyAvENkbhqS7QpYDt/qen020FHlPw6gg\n",
       "7NiqJrFm4y4+RU6nkGbpKJx/64muVlgiLkJESgss+0FrYg6+rmwURJPxMhhoBRIvYwtgBWO0yZPZ\n",
       "N2b/q1QdzccuWe6lOmbz90KO13IOLhS1e47DUgwfWN6dlsOzQPVfq36g9pqlq2wtd1R9EkrSR5J7\n",
       "M2wWMzjKyJe+4Cf2+fvFRA5E1KaTQ+XV0oH9yVUa/YPmbXuOa9WzklRqwqLXZ5hUQjExPEFmtsKQ\n",
       "ozSAQeKi1uG18R/gAAABXAGfk2pD/wAF98eJSxYFxoyymgBOSWU7/KIT2c/Szsu9QW42pDnxeApN\n",
       "rG5//oYbhO3/Gc3J079JoZbtaXEgh2E8LE929s6y/FEyxpPlhGWE+G7AcaSGQmsgdTfIqNUk4Ml4\n",
       "PttqMx10GJjasfFbkEdmnwmwxQ/4Lr4Z7TUeU1tSSZtvbot7390du5Qjy8dqMKJ1hvTjWQKb/Cwl\n",
       "pEgezUVIA5vMrBeN0IRux+9CTs5lCL5Y3nroKMxsh0yvYJO5ELMpuCeLCOLQdDhEZlLFqzvlHZYL\n",
       "Cuw/i9AQs9FwecX4A3Eofo8xeKh7dIs2CTRXSVnc/5nWQYk7BFgZvRXjve6BWqMRyuKvXCJHPDP6\n",
       "AWtVoV7TyZC/maYlcWFFyTnEy6OxBssd4C5keQWLzWs80iyPsGdAN3VAe6OMt63WUL96udOlS0eB\n",
       "Nmc9s10j2gP3MyH/gSMcf2oWMDFoxwAAA9RBm5VJqEFomUwIJf/+tSqAAOOVTaaUFkwALaeNz3Xh\n",
       "tFHf9+jOmEoOKBe2O1JIS/DtJqUBjX7AvTg0J/HZ9Z5PXMv1IXLFe1I6VseuE/fGxBjfbc5CrxTR\n",
       "kJ/0OBW0U5Xu8vYrC5OSHAd20pUJW5IbzahPyd9Uk5/1tBpaTEmf8qTDPCB8ve1c96blrA+urwuj\n",
       "DvpPaI9+dKBqU7D70RGfiGCz28vICR9kwkcjS4wnKMzdHiNKW1LuG8RWKDwn5J5ujervo8agmQm0\n",
       "nNMOp0s9AzEvJqHyL2m3HUVJfIOOtPffO1UnqsgrNdOgAYQNJrVfDt1T08CZjkDNDTnlKQCuddXH\n",
       "4MavKEQY5fqbSlAgY9TuAgSZTKSSAF2qeVd1VzB1hH/TMEYFixgZ1Yyq78dpTqQntQLA4RZBsPg/\n",
       "dLtRb9bLXhcHsERuqxi7dMNgFqXvSfqBQqiErwHW1eHjGYaRpZBuN5TqC3NWrB8i2AAw+tLT3Aal\n",
       "i//KF9L8pqk2DoDdj9dicPTaYNqlSLsTqgIqw/E6efk1IOLuziV2pHtal3o+NUT636opbkSKBPfR\n",
       "bVkTZ06NblXdDiZhlO9ONMLfT4q+nStFKcHkADsu6BIXh5paHWXg9Z5OmCCVNBrxw3RpZGW4bsKi\n",
       "qXC3JV5Q/AknsTzP1GCV4S7OvYOAmYMEWyb1uPNjsUKz7iVINnBjohJfrtgNnq1IspDboZYhjMY7\n",
       "+yruqfY0FCAiHZvfG121+/q1WGP17LR7Qvdi8hTYwywNtaLc/E2gnoKvf1kyy9EIUwVntweNZ5ki\n",
       "dTLVqz5J7Arj+BfBhdq/jlGneMIBkItwfZHTKTQSrrslvBvt9WSRnH3iWyVXxgA0IN8J/khRzTSH\n",
       "fMkNhBbDM5VVP1RODngF7uPGPLoL12OwVIcI31kEaP/yvZkbp7BZyqvRss1nciXNF3+q1dnJHnI1\n",
       "AF4IVi2AeEH1vfcYfP0ZoKzqZ7W8kMLyDMt0Nvb8hyWJPlmYR8c/o4Vhj8bR4H34H84NUZEvkauY\n",
       "WSGX182SAGMo0JVweUm53+eXPGy7UYARngbB8mahBa0FY1QskSadvFoXqexTHIOnW9QfPjZF7OSF\n",
       "sXCSL7j7upllSRKAbNXRQB8Wj0Mwzgk144R8YA3Q8cTspF83aKGTbFwHgRwcPPoQquqgIJ4Wszyh\n",
       "Vw1rIH7q0mfdtfYE/mNnumLnVTQbNv++Q4IMxHG1lP7LLEjtkQ/wPSJrOe8fGbqBHK0O5X/8+Ucl\n",
       "WSOyeXJi1mYgac2prsmsUuLhqdlcBDSDNTyK0iglkLRzJVoxwQAAA8NBm7ZJ4QpSZTAgl//+tSqA\n",
       "AOOZ/vQWkZMADjWG4DIbDbzmHbi9bi6WK1jTrAGJ0YXB8eOf/tyixKB/OaVIXYOsPLt/uoEYLVoa\n",
       "rtx4WTxc38SIVUdM1LlSD41mTxeKOtK8stPSqWt38ZPDoIpLYuIgE/QQZzquQ/qZG5eOjKk2YCF2\n",
       "VIx6OC8KXiWSTcPSkuA7FmQ33RT/suFPCJh876ECnGKVgpQpC3tixeZI2NtI5F+NVApjLYaL+WEx\n",
       "JvgvgsYjZ22CR6E1xP9/kn/Tki61bVeJTTjxUSe+ZApM7rQzAJ/KU/xEoJMjtfs4uyIX17WUPnIJ\n",
       "aFJgFARBqi/h44u9f/bUGQr2NWkaum3aWgJeobYGch97mMu5adfiYc0Io89DZ04buhZm5/fKgaNW\n",
       "CXNKBQeF/LzXQaAZzvxaMGPO2KEupth1d08lbfViUGNti5ZQVV7UlImzwf7r0rt1x3qXqSXwa9Ap\n",
       "n1De4icDLjXElHoMkrp6IO8P9aFRI+zyeVduxozq8OLwLFnBGUbUObfQJH88mBNm4sBOT49SPbLD\n",
       "BrjO3oXMfEjZ5GHAm+grKKy32n9EF+N746IzzuL+sOxYq852841GSaeVp7ciECe5sYjnnD4ZU1eP\n",
       "Jy+nElZ9Fss3vbAX66V58iHWd5Q5HGX3psQF9AYRruSxmTzI6qm/cPkOx4yMXkB0lu3efgadEagl\n",
       "Y0m6QtEWy803JqaF7UW8uf8TwO39S8XtQAr0WysTKoNj331clOQrvA2q0gqUQWYDyyOH3hUveqGY\n",
       "FgEnKjrJyuK9ifb0igDSip07/8xZVD2Nj1wI4iqK9OLAPpIlCSvW3bMNfLtfJ6cB9rVoXOpL7fLy\n",
       "MauPsp8XG4lviS0akYlCNCo0CsJVDjD+8WXnLEnH+PK/PSTZmyCEXJjswJoGUQH6nr4mQs4Wp9wU\n",
       "ACYWcycMfooRcUTBqvP3RdvkimD+bLs1gT4s1WGuTUJFhgSNc8XjN5olqbi2rL5InKclrXPyznug\n",
       "y6ORhtcsGsGlCfd3F5OiNgre0R43MIJrKOWSSfBnQera/uXAYCSmNMZ8cGE1xA7wbRqZiKfGqETV\n",
       "c0qdz5huRFF5T0CMhCR1cGCmHRd7Koa9HeAGJUp6YHq4zYNhbjVvfTcJ/6uKj8UzeUc8vUp1m+7M\n",
       "IWDc0k5wQRNAVdHE+4RBIuioB7GWtVJOMEoTNEgIUPmbvZ2fW6zkL13j5LHQVZZgWiy6DOMHt07X\n",
       "sbOol328xe0u4vTI4zseeDLpDiWWgZH2XwjiG//5Z+lBe/AAAAQFQZvXSeEOiZTAgl/+tSqAAOOV\n",
       "Tr0P3yAAHGxWR6vGliPev6fe8w6MH1QM2CSg8NPj4vk5FHNBy2LyXdDuhdZdVYAY3JbBOP8hKvOT\n",
       "ulQ/Y85U3kJ6lRUU/uD2HpjWTJXJyWD1CfFGGrIBsARBxdRpp8wTA9GDoW/8nqkbAQP+lMG5wEJY\n",
       "IvJT2d8igh54RaEjIEEAhaHOb137JKDBeKZSfANQMrb5EToGS+MPKCsSbvtv8KEVxRD3hddq1cdR\n",
       "VW3pLR0svLqZMXm44u2QYvbPVMs9nR2e1COd1Q7x721yKEut2wp/xgx6clbZyPoMRVHx2igyTTqd\n",
       "7gAvjaV5SbgMSZ3hLs0cpsYk2aH28KkkI1g1OuoE3Fj0oi3oH1v4dHsRE2EO12g2mrqxYVm9IbQI\n",
       "J2HI9RGH62XtZjNz3naiQSixG/SnsmrQgs3oTi4TebXhjSOZq+cGpqM2vJErr8nUxMs19EBrwaRp\n",
       "oT0r5hdBLfOcxSgvKUc/w8uHUBmOPn9naGR9vdpJA+JCA9PRwjjlpertrlttA1cTO8d3l7zOZPxd\n",
       "UPrIpFt3969oB5bXoJwVT2fD+pMIpGRAI0jfpIPfVYgeFF20wp+go1wVncVWjVwNFrW18vIbQntn\n",
       "05Rnl8OHiIqunDCrD0AgRjHxQFc/ns7U4OQlx/VBUaZc4LcupIXZZaE+eqhyhp/+vCexsUPk9uqo\n",
       "C+7YswcWk0QHokxafzGe3wzytYdNLX2UlaOpupmhDEhQrYR3kMnre0hnGk3HyiWTOPg16K7OFpLU\n",
       "C5591vbxkeJHF4hvi0e7jVHJzt0ZEOhYftySfPPin7bocr9AblS8pw4ZJYWO14xP2ZQCwxPYtsrn\n",
       "VQ35gnEUjTovx2c4gLBve/AtIP2vIkXaRZECp3H3OmlLPbuBpoqeK9BiSfeDAlUKHvMMEaZw2tNS\n",
       "APEeCefXkxrbilohRFWP6T9M86oEuvNw5alqmeBSBMBn3nPUChyuQbV8E9Zf0w03C4IVpdvZunew\n",
       "CGaECD6hMq9ENYwgn/N9Q15P4aWLrSH6YLPunnzltPzlzfhOc6ioqUJntPdO6zxk4yc+uPWFbBbF\n",
       "Hau6lgK8qDt4IOkJk93f3MBh1xlN2QIsUcVoE+RZBBsZ2KFgHFIZ4RKNYGCCO6eodRJel6VDJvGP\n",
       "N49zW7z81gT69EdZl5WRtin18CErqYxIcvyVo6IJ9KkgeGQ5QiRkr41JgXBZ04OQEGWIAJThNx4a\n",
       "Z8I5nDbiaQbdrnYw/cPg14XDKf1fMBgEI1Qh1DowIEZEkZ7SgUwCoA2A+uV0O1QGFq+gCqOXi83D\n",
       "zsd5N4Rdb9hwofjgs811HBlcmX3zAiMXk1SG5P4iIr3CwSJy1TP0v85hAAADRUGb+EnhDyZTAgl/\n",
       "/rUqgADjlGr3RzHUAQwgAg4xLRsihEd+XLGzPuCAO0IKD20Zm2+TZi84vWCoL5e5s9e9fvhuwaGd\n",
       "w8deqoTw5KwDTS3P22OZ/8E6cOIyLLQZC1hzchlK5XRMTxAnnpqSe403O4N6QdHoB/XkfijINZBp\n",
       "Hw8NcNK02eSYIHGY2p7qV6vUKcRLpaxTmaFeEpvuotZo2k/5ohW5flQyaRGSsMjheQXtBAA9ZN7X\n",
       "ZVkLNZdT6t6ZN3rnHhEm0J81sgS/SHAim9YeZhzAwmMRXd54tFjyS4YGkp53O5LmDO1AaFRQT0tO\n",
       "M+OAODLMPqI/+MFd1BULaTqRWeSbSbich9YlrT3L7dm03Ho1dJ0ralwhl6c99vjJfnx6PJnniJce\n",
       "NZ9wNAjvW2TZURTM3udmvzJ5s8uui9A+XvNqDOEc09McZ/IQAmKJOfF+G8ow9ap4eycjXM20jJdF\n",
       "+r3/6PuFTEGq6jxMxZeZJK8Wan/GoM5QL+iR69Dh2fckbFcSCf8CS6ztG+ZGNrc6Ri43UDrZWK3d\n",
       "hKe3pPDrj064cQE1zF8imaaFXmjVd1lkbevPn3c9zhz7tu4mrJUbtgqP0Gbv8JenDlANRmva6nel\n",
       "JB/pQPsMToiO3A9/DJI75L+5wl3wEzvzCVMKUtCVtHqfFfWULcxNTUFbkliosUIU/aJu//8t6myd\n",
       "hvmYX5u/ludjwVVWvkuCCN2COtymHTtzKomF+rawgFpdGN5zekLnYnqLQyLcahMU/w4O7q+X0giC\n",
       "G0tajvDIuu+8VYd2fGyHT/i60HE9Ca9gUCH8/SZqDj/sjj5zx703B94nzK0CDWbsoD1gQcl/EVks\n",
       "8YtvFH+Xri6uwOnEV9w2n7cUHw2Az7NlhrIsBCKc7C/1xgFmrKQ+WMxqLYZYPBXrgBVrd5wMO4KR\n",
       "4doE9HI35g+/IHET+Wj/ENLwgMQ9WYTVoMr6HiBDlS11SIFBifJTgSkiIKFx9S3WXh3dseptm6Zd\n",
       "ak8iTcNlID0ZSZ0+fdXgiWHJGIX9VEfsy1PyGhbA2R0r9RTIwKZuLt3d5krdhQUMLN2CGloK857y\n",
       "zkvBoH4m0Qhc8VJ2Tex5n8gUbG9rJNQfnLEuwQAAAzJBmhlJ4Q8mUwIJf/61KoAA45VQy3yXmYAV\n",
       "VjqXei/eK2pzidR44YmD64p5WjAEHSduNSjonPS+4nER2rS0TkongcUZIRM72oqyqGBT7lIxdegX\n",
       "J7SV9T3dUinNqk+bBFq+e/LTUaujNTAwfQnA/7d6dmM2gZqN47t6T2w2d/fjOakcCWj8Fy7CyZvW\n",
       "BsV5Al25JUcFLFcQ6lX63+6+unSVDo4GQrWv87CSCJlTNzHmxNGVNfh50PkODCej/N5dwK62OJtT\n",
       "KhxhTwzbnj8x0ETp45U2TNzVytl4sRzCdxUOrGXihU/IbPsMrIVKwuOJTgL1/huDWji+Z2UMQe/V\n",
       "cAivr/fyoEe2MCbjX+n9yTeHLFKnKSWaZaptHr0tm7BR8A280VY2itq3bjQEv1Kr0llFQoDnXOOO\n",
       "RWoHDKCz+fhrFJFCcSOHIfZsqWqEsX1MPF/yo9vACBYI/i8Sls224C3ACEJF7OL6MunPN31mktUZ\n",
       "5KvhZyZyOoN5FhOUDhVfLwexCuJOiMpWgIptSNNDPLv4js3KM9qu8ac/9OYHLk9mw0qbNDZs7YPg\n",
       "EbbQdyUST/nDRP+QuPn/inR/DGcmCbxoJn64EAsIDtEv6OU3M9YLHF44PcrTaiphZaLs4i5c4SGH\n",
       "ZPHqlTKtQy+cYwo3P++eymVp/0C2hla7Su36MKAIR+iROKCVMhYNMHZIizh+Wsnu6fgeHbW+F+4b\n",
       "0SCmw94ney6GHhvgvMnruBcMur4YRc5QKtzrXrgrue2fClrMJsVUGsAEbTS7XiBFhEZUNeWRnYjS\n",
       "awCpi5oKq6Bd4nx9XNtvjBPE4kDIRAdtNi9gXYqC4b7XFfjuCIb9qgLPnXS0BTqfA2wbaatFPja6\n",
       "0iGA5005W+auNGAJBvkIeN/4VkspVk8XunnTQnMDpET50O7X5eZhcrdkDaEjS44f8kN/sk9FXzpB\n",
       "11V1rlR+SCC6MaSEWHMpnVZ8dWZURK0axYpmC3qqPHkmvKXsPVEsVOugb9CsndEfKXxqQp/h5N9r\n",
       "brnjWV1M5WQoRsq9D2aFONKOUUER8w0NG/XRDZIOV5fjiRDUCuKC32+OzcKXGUpxoqQq4AAAAwFB\n",
       "mjpJ4Q8mUwIJf/61KoAA45n/Xz1X1AFTZ4brTLyGsNtd9HLhfsbXUTIZEHetu9ghaGMFUA9hQ75T\n",
       "pp+2QA8XUKrrhzLzyLIuYoWem0m9HJty81nQSxRKn7FnQW/2VM2V8WNTrt4Ju2AjQZDnDFpzoYGI\n",
       "OaLKDCoKVyzZC2uA9SYk4Mtq8qPXvCcGa/rs0uBvB4HqUHfaehfXWGLSeHkMTDEFf9mAxYVe4NXa\n",
       "zyKAQs4ngCXIUu0DpHfxdEZKkWlBRrPc8NyFK7oSMfl3AJcDggvLPpsRlRHrfd4/TQz6VU4YuFnL\n",
       "PMqNVxdY8rIrqy8KGHLP0dkKGV+X3j7Tm29MsdjfrvKClQTvBGr318smlT3GUauWQWmk0lpDUNnL\n",
       "aksAU4YqJ7K5Oh6hWsLvyGM30If57rKgxkbdGsDuUz+PkHCPnrVonKV6QfHOmAC2huVjR9e+mmq9\n",
       "ApeTw8uuzrarorAjLTfJJDNMGYHATyJzD7v8N58mhR2aFapZy6WHSXd+WZ6EuRG/XnylonSVDugz\n",
       "coHcUiRxiyb1YhUCffgbNHJpE9iVJ0CUdo0vnNzSTALUPa5H83exM6PYo3gW7u6fJVC9G/M0AYZZ\n",
       "y/XKU+/HbF2R+Vyhv9FtlZtyWBwWv/ZwjY6H4xiFaYaZX3W6KvE/m26px8YUItdz1QT9J+HsyTOV\n",
       "nAOq67xNcHkkO0pSZqiCyWEm4HqlPNXc/N+gnR2qgb7d7t82DVBHgFetWfXbJQl/EwMNC8kYsDDa\n",
       "6p/A0+vwbDOh4cd+fSXKuUv+yqex38g2nK6gdDDlmBX5nj1P4wYAW04Sx0QMtM14Rx4SH/GVipXq\n",
       "1ID7M7xg7WTiphDWSpC9iUBYJxLhVFyHAKHBG/aUHhJfOiynZz8lZ+z0gpIgKXXbDF7K7G954V6a\n",
       "PrOLOQ/IKKqqIohGUrD4IjW7NRGU/epVUdAFXSsSGxqie63VsTh5xkfQQaQQaLI8VyWyBMF0/dtX\n",
       "j/gdmBygpR3BQcuf3IIyo02ll8IU8ephZeF5AAADAkGaW0nhDyZTAgn//rUqgADk2OQUAHCiTZav\n",
       "8IUo8dsqBIB7liIlHvGZHyQVrmNlrO6nq90z/QSn/fr0UsMkWf2g+dVAlgvLOIxE20yPdjxhbTnI\n",
       "fA0qcYwwgN6VCWxCeUZ6i6Jr7hbXVDIp12m1DkniovnfirIFy1WeQ5bbA3cgx7fYKK0at9o14KVO\n",
       "D7Xbpi/BLuNhqw2MFZh3C4TYPdH9L4qXW6Hw2Qs1wWaGOgD4OGLYB8mcFDnypQPCm1druh03vHhN\n",
       "U6w8lgVuSOhWu6L8i+jdh2bKoAXWjyodPbb5UFE7tZsSl/OYEjtMe8VZHfIg7fuBQzEi3SCl80P4\n",
       "RqVQNlMzSlEYUKhoitYH5t+s0tN0jQv6U0AewjwC5W31VJaL+3LAMyQ/acOatD0S4fy6q2oIGnkT\n",
       "1rU9wFIXCL221OAW7uraJiHYgoDumz2iejWQtb0lLhPmGhoY2Llln/D17hcAt/VFAjZfFIGnbQau\n",
       "u8uFGLsb1onUgnSCPuEPbsbjIqrDTY4U4uqvLtwnz3+SwqvwMICb9pRS+hAMB2wlO3t9fWxugO7D\n",
       "Jw1tiNX0/RKsx61qrDycU6uax3eCFApuwIj2gn1j9D7AAOccpST6n1sg3lPuCpgLGcN3KljRZNSE\n",
       "aUz32SZ2Ip7iDSS5J1XqxqNo1uOOhR4AcpH8/zeErNZ58NqsFIOcbYk7pQjOmU6QGCDG5k8wny+N\n",
       "oo1Y5XGtP+MQuclnMnFcw3FZPUXifHdFZFnX7lGEdpqQc5ghkmPqw5iTJrZIT8Oz8jJwvMnPpbsj\n",
       "Cqqw8WzwkI0QG9WENmVm1FM3eyZ+RKOW0PhHePp43M99ZnD3KsEHpxN2670VkXNPihYp2Z8Cl++3\n",
       "wmr+ITyj47cq3KwCyuVIexj+5HM3XhwKAjZpUj2qKiAh7huLth2vSS7w7pXZ6mMzL3mwh2PNb1pr\n",
       "8ewOiQy4v8RHitQukcEJa274a1oK8TFuBz3Av1zX2havZ3R5PGEeOUHaKndxdXcma925+zgveQf4\n",
       "gVuQAAADzUGafUnhDyZTBRE8Ev/+tSqAAOOVUMt0N1AFYSRnx2wgpwNOxjxgNMHCW7U070aDICBV\n",
       "SJgedIRu34izJI5QMB+z+BMMXwYfkPtA3CRyQNXKu6/rIzAooo0pF8vgzdbXaYkI+Iva6YzKHyWK\n",
       "7cO1csZHqGTMNoa4ps8tCd02H18kolNjFMZYgr2Bat5/GAItJf8pTNzwa9aA/4io9giAR22iiA86\n",
       "l/QGskuYJLcJsmyRgs+dPspsvHFjg9rhDRVOHeBrHsWo92N1tD0gAkUUBPwM9ky/zHNgh1kuQT/X\n",
       "tBXBIfVfbLwYSXiXocoSWCaLUwU75GlhQcdqPyTaHYwS0xia2BBtUS9Jmg+DsONO9XVVEswjFs1A\n",
       "Hlkb/3UmcwOTgS4PZAS1pY1DiYWGr2f7XM5q9iz2SayR38LB3CpD3Cy8xOkKgayMzlOZtkQCpHNT\n",
       "XVOzufuY/t77vBq4vAendTLWnJf7essyQzx2D8ifVhud6BvVevgFOab77EQUkWgvJi8MQc85jcFC\n",
       "6Ct1253eLEQzYGc/c53mhT0pz43objkyAtjrkmZtCGsjNX7skT3Cy1Mjyhtz8FV9z4XpYRu1KOPm\n",
       "E709JQheq1eVSg2XVetf60Ang/+5qnDsYkMjNSFTiVNetl2Ugc5Mm1ycsjKS5xmuyogVeGAZJmU7\n",
       "YabEpbPz7YpwrO8OWRrIzXQf4ADWgqfVBdhm+/kSnwDebWVcfnvPR/tB96R8dyZYn5VlgCbiD8/a\n",
       "/UvN1xu8uX3WKBirJAAy14lSACLlqM2YWThJ0Ih2AuwZVgzVlf6uEPTiovA9elPrXP12TLFRMj0X\n",
       "9Wkzjjj+yyrXrp5u2VvlgidTMbZEv7iKnu987ym0QQsVaIthfNV1rFqDlXEl3k7O1+ckcGM/SrYm\n",
       "VbbVpLua4bc3KfmEp+XzBJqzhh4k+oQc3DsB5R5J4HXxvo9o2syjn9zqbjEnAArtDubwlfx0yJmD\n",
       "QrcbFdgNdlYlnHD/9dO19iiMGHJweGMKATi0PUmA8oIR0ZmimiimqhmT8OIdx4TuLpjJPYisKRx/\n",
       "cq9e5+0OzDiKQRBlhXSu9oqfHzQgOZBhGnD9FgVBTopECe7FWiUmcVXSuUOM3LN5zfuBs7SeuntT\n",
       "BH4KXnJGfThgKu9WXoVxqT72bACWAEJvKvriGzgLuFDAhuypZsiaPg/5VztZNJ7NOyCjNLBMYydd\n",
       "bv6q/mYB4mnUIphSboWfFeJAPtx3o6wQKU/PruYm1oQdzDMfEdcWzbXQAQU0irjEe3HwS54+q4zC\n",
       "f5jPfqVu+q5dXuEAAAAzAZ6cakP/AAXnkoJu+DVVcVF20zohDV94Yex3ByfsvNyt2ViRABpTzMv5\n",
       "9VZnsqhi85JNAAACOUGanknhDyZTAgn//rUqgADk2OQUAHCJvZSJhZJkxbAOINNvNbZFzFqcxHY3\n",
       "MCfr3yWYtkErxaJGp7YQHReRf3mmJNt8Bp+9zr2oNk5cuDfJFz1aPt0ALDvi+FBYkdF/ksMB+RS1\n",
       "MNQBnQQ0dKPDs9fdqjnJlqMQRVM5gNFEZrmv0wOxidT2P1OMmFVrlFY6H/xR76GH8+oE4sLaB1vn\n",
       "VaMxPh8+NTJPPMNenGXa1hEz652iu4rHW2x3KPd/h55i2jlk4U8v9tiRqVNBH/fhCmCqqi9S+YdA\n",
       "7OVsNaym/Y3d57pICNIblauu4HJ50Ft3TioDkoLYj1lfKbPRBwZMjQ/qTgMcb2bwbre7Eg+Z2w5C\n",
       "22Mkwd2sqGmvHuekEDiXTjZFez6lfsB00RfB4nUZQtkK3kVrinGEKL16QQBo/b47BotMOg+M+kPz\n",
       "q1Z2jJ+HW9fawljWFgYrhXB5qlqsCTOG45e7RvsY8XnwwpyBC6KEJ//6dLIQswSuoVttN8O+t6Ir\n",
       "TsBLDAQKX0SLOYmkrqiqqWffNlzZgU/6GGatixbeMKJWPBIlXZ5aFLvTWGvxhH5vDzmr0xhDvxIQ\n",
       "JgLaoq3WBJl4nHk4gJOdcYke4ey/ZralT2PAWzrAhSD8IyLBf7klZM9QJlDMnemNwbOp44OlFPlv\n",
       "Y/i8cRA6WRa0vdStLbdTScBSIsuRxx7K81Bz3Z14IBN61ejOVl7Pnpk2CNp7wBnuxJt4JEE4TqMi\n",
       "2ulU9vY5QJi+tqOpAAADBUGaoEnhDyZTBRE8E//+tSqAAOTbr/yAEMEDKglmJSvAlwVZ7TQtX9cU\n",
       "TWAfurhOwKpem/1y1SUrTLjsj7nTU9p9iNoagxHj7x2uYMTLc3RjmpsQ+aopRjK+DeCxbM7fICG0\n",
       "Y2ftrph5jmzdAA1jbdgNT6BNlKsXkEEGN/gJzjAMwvqxwcKkHyWjFd0m+j0M2e47ZqWcJs5tE31P\n",
       "tEb+SwRjCWbnDtzAYNlFqIkbc8vWHwVCr4RHTpNDLWBqsHHHoGSa01qG51CaAI5EF2ICG6pjM02U\n",
       "vNUuoYuYkWma6uDJ6faJiY6EONHZbcZX8FZeYdLHGBRYdK9+hO2QN8iX1h2QSekGcR7zOnllqVyq\n",
       "5lv4m5REEf1q1qzvR4eUjJnNqy5VsOMlwUHDCRTFyfEail//znrsKkSd+R41WTrYc3tKnpYHjlYu\n",
       "yS0uyIMzBBuq5E3sctPoG5+FTNfI0rgHZfemr1QnhY5q5nEtqTBRR+R4fXILObzNobolHzv5Zzfx\n",
       "Sb7135Ez6B5MEfFWLQkwjFI/vCDwJbblZCmY7Mmx3sKsSkw1ld7stGSvoiSGTJyZ5lZs7Vsz+dnE\n",
       "50Yv77mXUthUhIzlikVFMCSvg/ufTj+h+YY5kEYuyBk+mZhkbyRrMCqp1P9h3uLycVOmfXc1aTnp\n",
       "ALUW2AJhm8+6/zfHouXraaRPJZmaOPk/PtrHvqKWp7cBZgmEwr96Txbf9LuTOUpShTvtqtzu0etH\n",
       "L8WLqTok6BXDMWt40MRpv2Qb1mOVJXUaF4hkv+GlfbyVC1+Z9VQPMB9WBL84gB6S5KH5hfDkJSpq\n",
       "nPKnvqs5+kIFZdLWbcA/v/JUZBvLBqKxjR2qnr5V5exupJjU/w4IFk1yuI77lc5JtRcMSRa3R6Hn\n",
       "NGfxVCoXm/4pVAY/UDSByua1feOEJD7Qf6DOm4eZE1QpyFQs0tXGlpd/J6XMw9g6DdVIsoBsgotn\n",
       "ZWCm9ccSLxu1MbUIx4wogrWFyEjfYZpxbv4mYQTs7aPaUlV7Gj+fzqGUgsTNvV5AAAAAJQGe32pD\n",
       "/wAF55KEKPuOGEqAiw32GH9O+agIBEAAgqsyrIMc0I0AAANXQZrESeEPJlMCCf/+tSqAAOOb9nRj\n",
       "3DACJqUmFLpZpbfr3rek70nVODpwzJyKbtHIZnZJ+MJKPo4PWIlzO1Dh1LtdZMoSo/CaFj9NsmOg\n",
       "2YvT2y2iZnRKdDWSRFH/IqjexTILrCUxk+c6PyGb8OmwPy1QKFtyUeEbzftFO5nAeopslLk9aCUD\n",
       "r7h2U68CeeCee8Yk/6MhZuhaY6WSz0SO7zLMSoCaAB72/tGYkr5+lRCRm1MIR1A1fZ3qrr1nqL0V\n",
       "7ptd9ujWPWV0e8Vr5UPHXQzeM+Q5BH5USia2ImeN5pPSdtpN4Tzl78E72MJbJyctKt02X1HBdhfr\n",
       "DmjO/BrLGHRCAi/G84a+wjt+61X/ZmdFySEDo3PKORjD4Jj/70TVZC5FSBBWH4efB+lH8IRt/JH0\n",
       "gfBTcfp9akbCxV3H+coTw8UADmOB+JILTuC9UweLBjm6FEPxlscD+T42mvmDp0/PWpaCM7ZvYE3g\n",
       "8r1tWdQHENhpXAS7unrzg7VNRdzBIp1RO+JPIacPnuRLiJVcvs5H6Ol8tdyEHHyUKhV8OaDLi1x+\n",
       "CHGSrXcHDV0TzM399+mlZIJ8pHafkRDzyeMx1X/mOWwEJDWyZE/oxoYcD7CWPJr/qIFVGZxT8Eda\n",
       "ECU0EIHtgCZPaPo2wyQrmo4o7V8D0p3HdJ0TpuyGTHjvcSTdm4Vt4x9bvJn7pTOSIRdtlQQJ7h55\n",
       "VklW6px2VuJ4xsl5ZqElXQ5w/nvYFnpEr1XHFeprtWRORFsxLf2CL+MxXCQf7Pf/i1K4NJIKRt+w\n",
       "ctKmWfL4aHxiM43ZbnWXyRTtyv0Bc2Rh7u8oFuDJi8c7ptSwzIXh1pfGJf1QWU9k+NZz2Qzen70n\n",
       "ZTzmtD4a77HYn8UhqizA3rn3MJ4lQr/je3AV76o3ENI/Z8q04Hy6DVZaxGWDVV0pqU7aalMVLlEc\n",
       "dS1mDQ2JhQhu+xpyHdK6H/xnBVJu27uXatBcTIUM/FWA1DxjYuhlgWqpOgIBF76JGy3SRKBDV1ky\n",
       "0uziUhPwuTyMx2D7eGzukI9/nFFk91O3kszPfZEHMGuk7/ZM7ltDV0LkaMV0nc3eksSJG8KCnxKx\n",
       "Db/ENEb7fRpez807vhgtB30HAA/sxh+GqUvUD51ObSniHS2+AAAANEGe4kURPBD/AAKrUfpvY02U\n",
       "adrdcoqtRIAAelmOWMk+WU32Izq4Xu+Lw3aKSycYDNf6fakAAAAlAZ8BdEP/AAX26UG7gCDAs0mJ\n",
       "SdWBMh56L1T9kUjcr1ZrKkHBQAAAABwBnwNqQ/8ABffHgfj9c35xZauj4qksGFNBVQDVAAAB90Gb\n",
       "CEmoQWiZTAgn//61KoAA5Njm4YAN81VbQ/cV5H2cFOsmf9Bi450YQb01n+5KbEC9f/T04uSh/T7h\n",
       "YfFTqAij6c2G1Q4KIzGJow15qkAAwAAjuflwcXB/TgtI2xCTd0jGHGSoQS+DPufeBf/V0Nxu34gr\n",
       "7qLiYCopzeKvzg/TtoYa/ihpGiAC4NGZxiU1dCpRhsb49gESeEv6gK87xiptTv/3K8Og3DSUYdj2\n",
       "yrCkJImk/d+9SATsyEgGjoJCNXVOKT7W0Q3JGw5d79YxnobZIPevzspVemHnPadZ+ZulhXRCDw7M\n",
       "D7jH+uDYun8OBeGZpu8K3n5s6xg5fHGJNLsdospUTKAWTyNGjxve6nX0EzvjohAUYL/1gyWIfIW+\n",
       "fE7kq1njiFBkatPvfUn+d8jlVrqsCUODhlQQ4suJdHamPQ1IhTzGbRopilyTDDRi0OiDbOJBF4/H\n",
       "WN1JUpTSMMeMtB/RECDhxvIUNQJZedcn6sy6CSEc6rfvrJr0cwr0Wbw7pSEd3zSEfUMR4s4bNUjI\n",
       "q3vjLjrEPzYghBMKRwzRyj1iMZppIuINIP28hNWD050PoeXYwgAKtGNqvqCOd9pe4I1/S9afDRof\n",
       "SfLexok6DOkw8o5HM2EqMeYYgkASqCrZisCX3MqXO2hpgupnjXnlCgMj/gvBAAAANEGfJkURLBD/\n",
       "AAKyWml5HFS7eVDHe3YyeO9DlYPO00C/BD9yDjKPe99uxRV4w/3q9lag9OEAAAAaAZ9FdEP/AAX2\n",
       "6UCywBLgs0mJSKVNv6XSOo0AAAAWAZ9HakP/AAX3x4No+D8PN/Wjs4Yq9gAAAURBm0xJqEFsmUwI\n",
       "Jf/+tSqAAOPEQMQA3uYwcw4rTlozcEeI53J2KFuNTFvgn7skZuDMOO41K73DmDWxxwtgPXlsknKW\n",
       "Dd9txCfRAUXwVtluNq2XZs4g0obhMRSAP4qNpCh5wez23UI6RLRE5DfY/SLn2Fq9MbCQ4ECNqMMV\n",
       "v6gUYQydDTEzGq/3SzdkjaDZP06MBrrIATkg72kywcDKzLjoGE7gILJO3pBCnJhAHZwsQP8152Qw\n",
       "GY4pS2rRGiA0ko28NFQlur+25nkZgL5XSnvuUR2g9ixdAmgLFcwFXQI04rhypD74IffubW3n0kh7\n",
       "akAo/JlAYh1ZPc8h68YNzCpHBJIhbOdEA94BLgbE2rsoNsXjtbkbh1iu8xrZ4nkL/LEMBkB1F61K\n",
       "jYclapaTygD0msoGo1uUAh4jLSyE/k219BU7kYAAAAAcQZ9qRRUsEP8AArJaaXkZKl7w2u7MVtQ5\n",
       "JMbVHwAAABsBn4l0Q/8ABfbpQbuAK9prNz71BoKMeco1sZAAAAAVAZ+LakP/AAX3x4KKfBzLzuYO\n",
       "uYa1AAAAWUGbkEmoQWyZTAgh//6qVQABxvbwWkAAkUjSUZ/B0zlpXxWhXwnfr1sM1d22MN66If1o\n",
       "PkUqtOdFQqTSlIyZ1b10zT4oKqpTzqRTDZJtsC9apJ5nO3WOIQ41AAAAGkGfrkUVLBD/AAKyWmld\n",
       "TJUXDMZx3qksxLznAAAAFAGfzXRD/wAF9ulAssAS4LNJiRPtAAAAFwGfz2pD/wAF98eCinwcy87m\n",
       "DuTrTIamAAAAFUGb0UmoQWyZTAh///6plgAAAwDwgAAABU5tb292AAAAbG12aGQAAAAAAAAAAAAA\n",
       "AAAAAAPoAAAnEAABAAABAAAAAAAAAAAAAAAAAQAAAAAAAAAAAAAAAAAAAAEAAAAAAAAAAAAAAAAA\n",
       "AEAAAAAAAAAAAAAAAAAAAAAAAAAAAAAAAAAAAAAAAAACAAAEeHRyYWsAAABcdGtoZAAAAAMAAAAA\n",
       "AAAAAAAAAAEAAAAAAAAnEAAAAAAAAAAAAAAAAAAAAAAAAQAAAAAAAAAAAAAAAAAAAAEAAAAAAAAA\n",
       "AAAAAAAAAEAAAAABsAAAASAAAAAAACRlZHRzAAAAHGVsc3QAAAAAAAAAAQAAJxAAABAAAAEAAAAA\n",
       "A/BtZGlhAAAAIG1kaGQAAAAAAAAAAAAAAAAAACgAAAGQAFXEAAAAAAAtaGRscgAAAAAAAAAAdmlk\n",
       "ZQAAAAAAAAAAAAAAAFZpZGVvSGFuZGxlcgAAAAObbWluZgAAABR2bWhkAAAAAQAAAAAAAAAAAAAA\n",
       "JGRpbmYAAAAcZHJlZgAAAAAAAAABAAAADHVybCAAAAABAAADW3N0YmwAAACzc3RzZAAAAAAAAAAB\n",
       "AAAAo2F2YzEAAAAAAAAAAQAAAAAAAAAAAAAAAAAAAAABsAEgAEgAAABIAAAAAAAAAAEAAAAAAAAA\n",
       "AAAAAAAAAAAAAAAAAAAAAAAAAAAAAAAAAAAY//8AAAAxYXZjQwFkABX/4QAYZ2QAFazZQbCWhAAA\n",
       "AwAEAAADACg8WLZYAQAGaOvjyyLAAAAAHHV1aWRraEDyXyRPxbo5pRvPAyPzAAAAAAAAABhzdHRz\n",
       "AAAAAAAAAAEAAAAyAAAIAAAAABRzdHNzAAAAAAAAAAEAAAABAAABaGN0dHMAAAAAAAAAKwAAAAEA\n",
       "ABAAAAAAAQAAGAAAAAABAAAIAAAAAAEAACAAAAAAAgAACAAAAAABAAAQAAAAAAEAACgAAAAAAQAA\n",
       "EAAAAAABAAAAAAAAAAEAAAgAAAAAAQAAKAAAAAABAAAQAAAAAAEAAAAAAAAAAQAACAAAAAABAAAY\n",
       "AAAAAAEAAAgAAAAAAQAAKAAAAAABAAAQAAAAAAEAAAAAAAAAAQAACAAAAAAHAAAQAAAAAAEAABgA\n",
       "AAAAAQAACAAAAAABAAAQAAAAAAEAABgAAAAAAQAACAAAAAABAAAoAAAAAAEAABAAAAAAAQAAAAAA\n",
       "AAABAAAIAAAAAAEAACgAAAAAAQAAEAAAAAABAAAAAAAAAAEAAAgAAAAAAQAAKAAAAAABAAAQAAAA\n",
       "AAEAAAAAAAAAAQAACAAAAAABAAAoAAAAAAEAABAAAAAAAQAAAAAAAAABAAAIAAAAAAEAABAAAAAA\n",
       "HHN0c2MAAAAAAAAAAQAAAAEAAAAyAAAAAQAAANxzdHN6AAAAAAAAAAAAAAAyAAAsEgAACSMAAAUA\n",
       "AAAD2wAABEEAAAMTAAAEHwAABu8AAARQAAACXgAAAnMAAAdUAAAEHAAAAisAAAKBAAAFsQAAAgMA\n",
       "AAYwAAACngAAAbQAAAFgAAAD2AAAA8cAAAQJAAADSQAAAzYAAAMFAAADBgAAA9EAAAA3AAACPQAA\n",
       "AwkAAAApAAADWwAAADgAAAApAAAAIAAAAfsAAAA4AAAAHgAAABoAAAFIAAAAIAAAAB8AAAAZAAAA\n",
       "XQAAAB4AAAAYAAAAGwAAABkAAAAUc3RjbwAAAAAAAAABAAAALAAAAGJ1ZHRhAAAAWm1ldGEAAAAA\n",
       "AAAAIWhkbHIAAAAAAAAAAG1kaXJhcHBsAAAAAAAAAAAAAAAALWlsc3QAAAAlqXRvbwAAAB1kYXRh\n",
       "AAAAAQAAAABMYXZmNTcuODMuMTAw\n",
       "\">\n",
       "  Your browser does not support the video tag.\n",
       "</video>"
      ],
      "text/plain": [
       "<IPython.core.display.HTML object>"
      ]
     },
     "execution_count": 18,
     "metadata": {
      "tags": []
     },
     "output_type": "execute_result"
    },
    {
     "data": {
      "image/png": "[encoded data removed]",
      "text/plain": [
       "<Figure size 432x288 with 1 Axes>"
      ]
     },
     "metadata": {
      "needs_background": "light",
      "tags": []
     },
     "output_type": "display_data"
    }
   ],
   "source": [
    "fig, ax = plt.subplots()\n",
    "ln, = plt.plot([], [], 'ro-',animated=True)\n",
    "\n",
    "def init():\n",
    "  plt.scatter(xtest,ytest, color='g')\n",
    "  ax.set_xlim(0, 1.0)\n",
    "  ax.set_ylim(0, 1.0)\n",
    "  return ln,\n",
    "\n",
    "def update_frame(frame):\n",
    "  m, c =mc_values_anim[frame]\n",
    "  x1, y1 = -0.5, (m*-.5) +c\n",
    "  x2, y2 = 1.5, (m*1.5) +c  \n",
    "  ln.set_data([x1, x2], [y1, y2])\n",
    "  return ln,\n",
    "\n",
    "anim = FuncAnimation(fig,update_frame, frames =range(len(mc_values_anim)),\n",
    "                        init_func=init, blit=True)\n",
    "HTML(anim.to_html5_video())"
   ]
  },
  {
   "cell_type": "markdown",
   "metadata": {
    "colab_type": "text",
    "id": "6oGtoHBpBiVo"
   },
   "source": [
    "**Prediction**"
   ]
  },
  {
   "cell_type": "code",
   "execution_count": 0,
   "metadata": {
    "colab": {},
    "colab_type": "code",
    "id": "vD9dK1Gc_SR8"
   },
   "outputs": [],
   "source": [
    "#Calculate the predictionson the test set as a vertorized operation\n",
    "predicted = (m*xtest) +c"
   ]
  },
  {
   "cell_type": "code",
   "execution_count": 20,
   "metadata": {
    "colab": {
     "base_uri": "https://localhost:8080/",
     "height": 34
    },
    "colab_type": "code",
    "executionInfo": {
     "elapsed": 2986,
     "status": "ok",
     "timestamp": 1589184529257,
     "user": {
      "displayName": "Deepanshu tyagi",
      "photoUrl": "https://lh3.googleusercontent.com/a-/AOh14GgCmU1nvfo6I6DPbhu7_T1OvZed31gKFisEamnhxA=s64",
      "userId": "01321392116102915651"
     },
     "user_tz": -330
    },
    "id": "_u03dsaiB9od",
    "outputId": "cf5fc0c9-f4d6-4683-8cc6-e9a5f28a2bb0"
   },
   "outputs": [
    {
     "data": {
      "text/plain": [
       "0.013947661165661407"
      ]
     },
     "execution_count": 20,
     "metadata": {
      "tags": []
     },
     "output_type": "execute_result"
    }
   ],
   "source": [
    "#compute MSE for the predicted values on the testing set\n",
    "mean_squared_error(ytest, predicted)"
   ]
  },
  {
   "cell_type": "code",
   "execution_count": 21,
   "metadata": {
    "colab": {
     "base_uri": "https://localhost:8080/",
     "height": 204
    },
    "colab_type": "code",
    "executionInfo": {
     "elapsed": 2797,
     "status": "ok",
     "timestamp": 1589184529259,
     "user": {
      "displayName": "Deepanshu tyagi",
      "photoUrl": "https://lh3.googleusercontent.com/a-/AOh14GgCmU1nvfo6I6DPbhu7_T1OvZed31gKFisEamnhxA=s64",
      "userId": "01321392116102915651"
     },
     "user_tz": -330
    },
    "id": "uu9J9yAuCY9S",
    "outputId": "06410e8b-d052-40c7-b8ff-4c2cb60d2adc"
   },
   "outputs": [
    {
     "data": {
      "text/html": [
       "<div>\n",
       "<style scoped>\n",
       "    .dataframe tbody tr th:only-of-type {\n",
       "        vertical-align: middle;\n",
       "    }\n",
       "\n",
       "    .dataframe tbody tr th {\n",
       "        vertical-align: top;\n",
       "    }\n",
       "\n",
       "    .dataframe thead th {\n",
       "        text-align: right;\n",
       "    }\n",
       "</style>\n",
       "<table border=\"1\" class=\"dataframe\">\n",
       "  <thead>\n",
       "    <tr style=\"text-align: right;\">\n",
       "      <th></th>\n",
       "      <th>x</th>\n",
       "      <th>target_y</th>\n",
       "      <th>predicted</th>\n",
       "    </tr>\n",
       "  </thead>\n",
       "  <tbody>\n",
       "    <tr>\n",
       "      <th>0</th>\n",
       "      <td>0.613687</td>\n",
       "      <td>0.044444</td>\n",
       "      <td>0.137798</td>\n",
       "    </tr>\n",
       "    <tr>\n",
       "      <th>1</th>\n",
       "      <td>0.406733</td>\n",
       "      <td>0.322222</td>\n",
       "      <td>0.306725</td>\n",
       "    </tr>\n",
       "    <tr>\n",
       "      <th>2</th>\n",
       "      <td>0.692329</td>\n",
       "      <td>0.186667</td>\n",
       "      <td>0.073606</td>\n",
       "    </tr>\n",
       "    <tr>\n",
       "      <th>3</th>\n",
       "      <td>0.387969</td>\n",
       "      <td>0.320000</td>\n",
       "      <td>0.322041</td>\n",
       "    </tr>\n",
       "    <tr>\n",
       "      <th>4</th>\n",
       "      <td>0.244205</td>\n",
       "      <td>0.360000</td>\n",
       "      <td>0.439389</td>\n",
       "    </tr>\n",
       "  </tbody>\n",
       "</table>\n",
       "</div>"
      ],
      "text/plain": [
       "          x  target_y  predicted\n",
       "0  0.613687  0.044444   0.137798\n",
       "1  0.406733  0.322222   0.306725\n",
       "2  0.692329  0.186667   0.073606\n",
       "3  0.387969  0.320000   0.322041\n",
       "4  0.244205  0.360000   0.439389"
      ]
     },
     "execution_count": 21,
     "metadata": {
      "tags": []
     },
     "output_type": "execute_result"
    }
   ],
   "source": [
    "# Put xtest, ytest and predicted values into a single DataFrame so that we\n",
    "# can see the predicted values alongside the testing set\n",
    "p = pd.DataFrame(list(zip(xtest, ytest, predicted)),columns=['x', 'target_y', 'predicted'])\n",
    "p.head()"
   ]
  },
  {
   "cell_type": "code",
   "execution_count": 22,
   "metadata": {
    "colab": {
     "base_uri": "https://localhost:8080/",
     "height": 282
    },
    "colab_type": "code",
    "executionInfo": {
     "elapsed": 2649,
     "status": "ok",
     "timestamp": 1589184529269,
     "user": {
      "displayName": "Deepanshu tyagi",
      "photoUrl": "https://lh3.googleusercontent.com/a-/AOh14GgCmU1nvfo6I6DPbhu7_T1OvZed31gKFisEamnhxA=s64",
      "userId": "01321392116102915651"
     },
     "user_tz": -330
    },
    "id": "pvYwFCoxCfHa",
    "outputId": "c7b4f138-35f1-454d-a51f-49f5b59fe6d8"
   },
   "outputs": [
    {
     "data": {
      "text/plain": [
       "[<matplotlib.lines.Line2D at 0x7f9770445780>]"
      ]
     },
     "execution_count": 22,
     "metadata": {
      "tags": []
     },
     "output_type": "execute_result"
    },
    {
     "data": {
      "image/png": "[encoded data removed]",
      "text/plain": [
       "<Figure size 432x288 with 1 Axes>"
      ]
     },
     "metadata": {
      "needs_background": "light",
      "tags": []
     },
     "output_type": "display_data"
    }
   ],
   "source": [
    "plt.scatter(xtest, ytest, color='b')\n",
    "plt.plot(xtest, predicted, color='r')"
   ]
  },
  {
   "cell_type": "markdown",
   "metadata": {
    "colab_type": "text",
    "id": "CtPF0t1yEpKC"
   },
   "source": [
    "# Revert normalization to obtain the predicted proce of the house in $1000s"
   ]
  },
  {
   "cell_type": "code",
   "execution_count": 23,
   "metadata": {
    "colab": {
     "base_uri": "https://localhost:8080/",
     "height": 204
    },
    "colab_type": "code",
    "executionInfo": {
     "elapsed": 1819,
     "status": "ok",
     "timestamp": 1589184529271,
     "user": {
      "displayName": "Deepanshu tyagi",
      "photoUrl": "https://lh3.googleusercontent.com/a-/AOh14GgCmU1nvfo6I6DPbhu7_T1OvZed31gKFisEamnhxA=s64",
      "userId": "01321392116102915651"
     },
     "user_tz": -330
    },
    "id": "OjBGSSrXElVf",
    "outputId": "99411446-5b0e-4775-dec8-1452f088ba3c"
   },
   "outputs": [
    {
     "data": {
      "text/html": [
       "<div>\n",
       "<style scoped>\n",
       "    .dataframe tbody tr th:only-of-type {\n",
       "        vertical-align: middle;\n",
       "    }\n",
       "\n",
       "    .dataframe tbody tr th {\n",
       "        vertical-align: top;\n",
       "    }\n",
       "\n",
       "    .dataframe thead th {\n",
       "        text-align: right;\n",
       "    }\n",
       "</style>\n",
       "<table border=\"1\" class=\"dataframe\">\n",
       "  <thead>\n",
       "    <tr style=\"text-align: right;\">\n",
       "      <th></th>\n",
       "      <th>x</th>\n",
       "      <th>target_y</th>\n",
       "      <th>predicted_y</th>\n",
       "    </tr>\n",
       "  </thead>\n",
       "  <tbody>\n",
       "    <tr>\n",
       "      <th>0</th>\n",
       "      <td>23.97</td>\n",
       "      <td>7.0</td>\n",
       "      <td>11.20</td>\n",
       "    </tr>\n",
       "    <tr>\n",
       "      <th>1</th>\n",
       "      <td>16.47</td>\n",
       "      <td>19.5</td>\n",
       "      <td>18.80</td>\n",
       "    </tr>\n",
       "    <tr>\n",
       "      <th>2</th>\n",
       "      <td>26.82</td>\n",
       "      <td>13.4</td>\n",
       "      <td>8.31</td>\n",
       "    </tr>\n",
       "    <tr>\n",
       "      <th>3</th>\n",
       "      <td>15.79</td>\n",
       "      <td>19.4</td>\n",
       "      <td>19.49</td>\n",
       "    </tr>\n",
       "    <tr>\n",
       "      <th>4</th>\n",
       "      <td>10.58</td>\n",
       "      <td>21.2</td>\n",
       "      <td>24.77</td>\n",
       "    </tr>\n",
       "  </tbody>\n",
       "</table>\n",
       "</div>"
      ],
      "text/plain": [
       "       x  target_y  predicted_y\n",
       "0  23.97       7.0        11.20\n",
       "1  16.47      19.5        18.80\n",
       "2  26.82      13.4         8.31\n",
       "3  15.79      19.4        19.49\n",
       "4  10.58      21.2        24.77"
      ]
     },
     "execution_count": 23,
     "metadata": {
      "tags": []
     },
     "output_type": "execute_result"
    }
   ],
   "source": [
    "# Reshape to change the shape to the shape that is requires by the scaler\n",
    "predicted = predicted.reshape(-1, 1)\n",
    "xtest = xtest.reshape(-1,1)\n",
    "ytest = ytest.reshape(-1,1)\n",
    "\n",
    "xtest_scaled = x_scaler.inverse_transform(xtest)\n",
    "ytest_scaled = y_scaler.inverse_transform(ytest)\n",
    "predicted_scaled = y_scaler.inverse_transform(predicted)\n",
    "\n",
    "# Thi is to remove the extra dimension\n",
    "xtest_scaled = xtest_scaled[:, -1]\n",
    "ytest_scaled = ytest_scaled[:, -1]\n",
    "predicted_scaled = predicted_scaled[:, -1]\n",
    "\n",
    "p = pd.DataFrame(list(zip(xtest_scaled,ytest_scaled, predicted_scaled)), columns=['x','target_y', 'predicted_y'])\n",
    "p = p.round(decimals = 2)\n",
    "p.head()"
   ]
  },
  {
   "cell_type": "code",
   "execution_count": 0,
   "metadata": {
    "colab": {},
    "colab_type": "code",
    "id": "RU7dnp0gx3on"
   },
   "outputs": [],
   "source": []
  }
 ],
 "metadata": {
  "colab": {
   "authorship_tag": "ABX9TyMfzSP4+NhD6+5l9P+DFtKX",
   "collapsed_sections": [],
   "name": "Untitled1.ipynb",
   "provenance": []
  },
  "kernelspec": {
   "display_name": "Python 3",
   "language": "python",
   "name": "python3"
  },
  "language_info": {
   "codemirror_mode": {
    "name": "ipython",
    "version": 3
   },
   "file_extension": ".py",
   "mimetype": "text/x-python",
   "name": "python",
   "nbconvert_exporter": "python",
   "pygments_lexer": "ipython3",
   "version": "3.7.3"
  }
 },
 "nbformat": 4,
 "nbformat_minor": 1
}
